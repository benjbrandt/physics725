{
 "cells": [
  {
   "cell_type": "markdown",
   "metadata": {},
   "source": [
    "# Project 3 - Crossmatching astronomical catalogues"
   ]
  },
  {
   "cell_type": "markdown",
   "metadata": {},
   "source": [
    "**Project deadline:** This project is due for submission on Thursday, 19.06.2025 at 23:55."
   ]
  },
  {
   "cell_type": "markdown",
   "metadata": {},
   "source": [
    "**PLEASE READ THIS NOTEBOOK COMPLETELY BEFORE YOU START TO WORK ON THE PROJECT!**"
   ]
  },
  {
   "cell_type": "markdown",
   "metadata": {},
   "source": [
    "## About the Projects\n",
    "- You will get one project approximately every other week.\n",
    "- Besides the homework-assignments, you need to solve the projects in order to pass the course. Your final course mark consists of the mean of your project marks. We will give you *four* projects during the term and we do not consider the worst project mark for your final course mark. Projects that you do not hand in are counted with a mark of 4.\n",
    "- The project needs to be submitted via [eCampus](https://ecampus.uni-bonn.de/goto_ecampus_exc_3753493.html). The submission consists of a completed version of this notebook.\n",
    "- **In contrast to the homework exercises, each student must hand in an own solution for the projects! Of course you can and should discuss problems with each other! However, you must not use code or code-parts from your student peers in your project solutions!**\n",
    "\n",
    "**Note: The tutors, Matthias and I are very happy to help you out with difficulties you might have with the project tasks! You can ask questions any time but please do so well in advance of the deadlines!**"
   ]
  },
  {
   "cell_type": "markdown",
   "metadata": {},
   "source": [
    "## Introduction"
   ]
  },
  {
   "cell_type": "markdown",
   "metadata": {},
   "source": [
    "Astronomical observations in optical wavelengths are performed with CCD-cameras mounted on optical telescopes. The following figure shows two observations of the same patch of the sky. The data were taken in 2007 at our old observatory [Hoher List](https://www.hoher-list.de/)."
   ]
  },
  {
   "cell_type": "markdown",
   "metadata": {},
   "source": [
    "<img src=\"figs/dithered_images.png\" width=\"700\" height=\"700\" />"
   ]
  },
  {
   "cell_type": "markdown",
   "metadata": {},
   "source": [
    "The objects in black are stars. These sources can be extracted from the images and analysed for their appearance, their brightness and many other quantities. Please see the Notebook `scipy_optical_object_detection.ipynb` within the github-repository [Thomas Erben - Python Cheat Sheets](https://github.com/terben/Python-cheat-sheets) if you are interested how such analyses can be performed with Python. We already covered all necessary topics in our course!\n",
    "\n",
    "You note that the two images show approximately the same patch of the sky but also that they are shifted with respect to each other. You can spot three prominent sources in the upper part of the left figure which are located closer to the center on the right.\n",
    "\n",
    "Although we *should* know what the shift between different astronomical exposures is (we ask the telescope to point to a certain position of the sky), this information is subject to errors and inaccuracies - mostly due to pointing problems of the telescope."
   ]
  },
  {
   "cell_type": "markdown",
   "metadata": {},
   "source": [
    "To compare properties of the same source in different exposures - for instance to investigate whether a star is variable, it is essential to determine *precise* shifts between such exposures. To implement an algorithm for this task is the topic of this project."
   ]
  },
  {
   "cell_type": "markdown",
   "metadata": {},
   "source": [
    "## Our Algorithm to crossmatch astronomical catalogs"
   ]
  },
  {
   "cell_type": "markdown",
   "metadata": {},
   "source": [
    "Starting point for our project are the six object catalogs `image013269.asc .. image013274.asc` from consecutive observations of the same patch of the sky within the `data` subdirectory. The catalogs are text files having two columns: The $x$ and $y$ positions of detected sources in their respective CCD-images."
   ]
  },
  {
   "cell_type": "code",
   "execution_count": null,
   "metadata": {},
   "outputs": [],
   "source": [
    "!head data/image013269.asc"
   ]
  },
  {
   "cell_type": "markdown",
   "metadata": {},
   "source": [
    "The following image shows detected sources in the images `image013269.asc` and `image013271.asc`."
   ]
  },
  {
   "cell_type": "markdown",
   "metadata": {},
   "source": [
    "<img src=\"figs/detected_objects.png\" width=\"700\" height=\"700\" />"
   ]
  },
  {
   "cell_type": "markdown",
   "metadata": {},
   "source": [
    "Can you spot that those catalogues originate from the same sky-area but are shifted against each other? \n",
    "Given those source lists, we want to implement an algorithm to automatically determine offsets between the exposures in $x-$ and $y$-directions."
   ]
  },
  {
   "cell_type": "markdown",
   "metadata": {},
   "source": [
    "**Notes:**\n",
    "1. You might argue that an $x-$ and $y-$shift cannot be the whole story because astronomical observations are done on *a sphere* and not on a two-dimensional plane. This is correct and for large-format cameras, we need to take into account spherical geometry. However, in our case, the field-of-view is so small that we can neglect the effects of a sphere and the plane approximation is good enough.\n",
    "\n",
    "2. We realise that objects present in one image might not be present in the other one. This can have several reasons: (1) edge effects; (2) a CCD might have bad pixels within an object; (3) some detections are CCD artefacts and not of astronomical origin."
   ]
  },
  {
   "cell_type": "markdown",
   "metadata": {},
   "source": [
    "A possible algorithm to estimate a linear shift between two-dimensional point clouds\n",
    "that share the same pattern (object configuration) is the following:\n",
    "\n",
    "1. We calculate the $x$- and $y$-distances from all objects in one catalogue\n",
    "   with respect to *all objects* in the other catalogue:\n",
    "   \n",
    "   An example with two fake catalogues:\n",
    "   - Catalogue 1 has objects at (1, 1), (3, 1), (3, 3), (1, 3), (2, 2), (7, 2), (-1, 2)\n",
    "   - Catalogue 2 has objects at (4, 4), (6, 4), (6, 6), (4, 6), (5, 5), (1, 3), 10, 6)\n",
    "   \n",
    "    The common pattern in the catalogues is a $2\\times 2$ square\n",
    "    with a point in the middle and each catalogue contains two\n",
    "    points not present in the counterpart.\n",
    "    \n",
    "    If we calculate the x distances for point 1 of catalogue 1\n",
    "    with all objects from catalogue 2 we obtain the array:\n",
    "\n",
    "    1 - 4, 1 - 6, 1 - 6, 1 - 4, 1 - 5, 1 - 1, 1 - 10\n",
    "   \n",
    "    We obtain for point 2:\n",
    "\n",
    "    3 - 4, 3 - 6, 3 - 6, 3 - 4, 3 - 5, 3 - 1, 3 - 10\n",
    "    \n",
    "    The same we do for *all other* points and also for the\n",
    "    $y$-distances. We store those $x-$ and $y-$distances in two arrays.\n",
    "    \n",
    "2.  We analyse the frequency of the distances in histograms.\n",
    "    We realise that the offsets between the\n",
    "    catalogues can be found in the histogram bins (for $x$ and $y$\n",
    "    separately) that contain most counts.   "
   ]
  },
  {
   "cell_type": "markdown",
   "metadata": {},
   "source": [
    "## Task 1"
   ]
  },
  {
   "cell_type": "markdown",
   "metadata": {},
   "source": [
    "Please do all the tasks at the end of this notebook. You will finally submit the completed notebook.\n",
    "\n",
    "To test your understanding of the algorithm, please answer the following questions in a markdown cell:\n",
    "\n",
    "1. What are good and what are bad object patterns for this algorithm\n",
    "   to work well. Why do you think that the algorithm is especially suited for astronomical data?\n",
    "   \n",
    "   **Hint:**\n",
    "   Assume that your main pattern is a straight line of equidistant points. What issue do you have in this case?\n",
    "   \n",
    "2.  I wrote above 'The offset between the catalogues can be found\n",
    "    at the histogram bins (for $x-$ and $y-$ separately) that contain\n",
    "    most counts.'. Why do we need a histogram analysis? Can't we just\n",
    "    get all the distances as described above and check which value (distance) occurs most often?\n",
    "\n",
    "3. Assume that we can estimate object positions with an accuracy of up to one CCD pixel. Which histogram bin size would you choose for your analysis and why?"
   ]
  },
  {
   "cell_type": "markdown",
   "metadata": {},
   "source": [
    "## Task 2"
   ]
  },
  {
   "cell_type": "markdown",
   "metadata": {},
   "source": [
    "Write a Python program to implement the algorithm above and to estimate the $x-$ and $y-$offsets between the object patterns in catalogues [data/image013269.asc](data/image013269.asc) and [data/image013271.asc](data/image013271.asc). Your program should plot the two histograms of the $x-$ and $y-$ distances and print the estimated offsets.\n",
    "\n",
    "**Hints:**\n",
    "1. First, read the data and store the $x-$ and $y-$ coordinates from each image in one-dimensional arrays. To obtain from those two arrays all distances between the two catalogues is a *one-line* numpy-operation for each of the $x-$ and $y-$coordinates. If you have the distances written in a two-dimensional matrix, you can convert it to a one-dimensional array with the `np.flatten` command.\n",
    "\n",
    "2. To analyse the histograms for the maximum-count bins and to estimate the distances, see the last task from the lecture 06 review questions. Up to what accuracy can you determine the shifts with this method?\n",
    "\n",
    "3. For this and later tasks, I found the function `enumerate` very useful to write more compact programs. Just have a look at the documentation but do not feel obliged to use it."
   ]
  },
  {
   "cell_type": "markdown",
   "metadata": {},
   "source": [
    "## Task 3"
   ]
  },
  {
   "cell_type": "markdown",
   "metadata": {},
   "source": [
    "We have six catalogues and we want to estimate shifts between *all* of them. Having the algorithm for pairwise shifts (Task 2), one could estimate shifts between three catalogues `c_1.asc`, `c_2.asc` and `c_3.asc` in the following two ways:\n",
    "1. Obtain with Task 2 the distances between `c_1.asc` and `c_3.asc`. This be $d_{13}$. Similarily, the distance between `c_1.asc` and `c_2.asc` with Task 2 be $d_{12}$. Then the distance between `c_2.asc` and `c_3.asc` must be $d_{23} = d_{21} - d_{31}$.\n",
    "2. Perform the same steps as in (1.) but estimate $d_{23}$ with Task 2 as well.\n",
    "\n",
    "Perform this analysis for several combinations of the catalogues `image013269.asc .. image013274.asc`. What do you observe? If you obtain different results for $d_{23}$ with both methods, why is this the case?"
   ]
  },
  {
   "cell_type": "markdown",
   "metadata": {},
   "source": [
    "## Task 4"
   ]
  },
  {
   "cell_type": "markdown",
   "metadata": {},
   "source": [
    "Task 3 should show you that a pure pairwise analysis to obtain consistent offset values between more than two catalogues is not optimal. In this task, we want to estimate the shifts taking into account all available data points simultaneously."
   ]
  },
  {
   "cell_type": "markdown",
   "metadata": {},
   "source": [
    "We want to proceed as follows:\n",
    "\n",
    "Using the algorithm of Task 2, we obtain estimates $d_{ij}$ for *all* pairs of distances between all involved catalogues. We write the $d_{ij}$ as follows:\n",
    "\n",
    "$$\n",
    "\\begin{eqnarray}\n",
    "  d_{12} & = s_{1} - s_{2} + e_{12}\\\\\n",
    "  d_{13} & = s_{1} - s_{3} + e_{13}\\\\\n",
    "  d_{14} & = s_{1} - s_{4} + e_{14}\\\\\n",
    "  \\vdots \\\\\n",
    "  d_{23} & = s_{2} - s_{3} + e_{23}\\\\\n",
    "  d_{24} & = s_{2} - s_{4} + e_{24}\\\\\n",
    "  \\vdots \\\\\n",
    "  \\label{eq:lsq} \\tag{1}\n",
    "\\end{eqnarray}\n",
    "$$\n",
    "\n",
    "The $s_{i}$ is a shift to be applied to image $i$ (separately for $x$ and $y$) and the $e_{ij}$ are (unknown) errors of the $d_{ij}s$.\n",
    "The goal is to obtain values for the $s_{i}$ that satisfy *all* equations of (1) simultanesously *as good as possible*. "
   ]
  },
  {
   "cell_type": "markdown",
   "metadata": {},
   "source": [
    "### Subtask 4.1\n",
    "Please make clear to yourself that estimating the $s_{i}s$ can be formulated as a classical *Linear Least Squares Problem*; see also the next subtask. You already solved many of those in your Lab experiments or/and you learned about it in your math courses. You have measurements $d_{ij}$ with (not exactly known) errors and many equations for the unknowns $s_{i}$.\n",
    "\n",
    "To show you better that you already know this sort of problem: A classical physics experiment is to estimate velocoty and starting point of a car undergoing a uniform motion, i.e. to estimate parameters of the relation $s=v\\cdot t + s_0$. You typically have many mesurements of $t$ and $s$ (with errors) and you estimate $v$ and $s_0$ with a *fit* (a Linear Least-Squares problem!). Our task at hand is very similar!\n",
    "\n",
    "Please discuss, why the system (1) above cannot be solved uniquely in the *Least-Squares sense*. To be able to do so, you need to add another equation to the system. There are many possibilities to do so. Just write down why you make a certain choice.\n",
    "\n",
    "If you have difficulties with this task at this stage, come back to it after the next subtask."
   ]
  },
  {
   "cell_type": "markdown",
   "metadata": {},
   "source": [
    "### Subtask 4.2\n",
    "For clarity, we discuss the general case of the equation system $(1)$ above in the special case of three catalogues. In that case, the three equations:\n",
    "$$\n",
    "\\begin{eqnarray*}\n",
    "  d_{12} & = s_{1} - s_{2} + e_{12}\\\\\n",
    "  d_{13} & = s_{1} - s_{3} + e_{13}\\\\\n",
    "  d_{23} & = s_{2} - s_{3} + e_{23}\\\\\n",
    "  \\label{eq:three_cat} \\tag{2}\n",
    "\\end{eqnarray*}\n",
    "$$\n",
    "can be written in matrix form $Ax - b = e$ with:\n",
    "$$\n",
    "A=\n",
    "\\begin{pmatrix}\n",
    "1 & -1 & 0 \\\\\n",
    "1 & 0 & -1 \\\\\n",
    "0 & 1 & -1 \\\\\n",
    "\\end{pmatrix};\n",
    "x=\n",
    "\\begin{pmatrix}\n",
    "s_{1} \\\\\n",
    "s_{2} \\\\\n",
    "s_{3} \\\\\n",
    "\\end{pmatrix};\n",
    "b =\n",
    "\\begin{pmatrix}\n",
    "d_{12} \\\\\n",
    "d_{13} \\\\\n",
    "d_{23} \\\\\n",
    "\\end{pmatrix};\n",
    "e =\n",
    "\\begin{pmatrix}\n",
    "e_{12} \\\\\n",
    "e_{13} \\\\\n",
    "e_{23} \\\\\n",
    "\\end{pmatrix};\n",
    "\\label{eq:matrix} \\tag{3}\n",
    "$$"
   ]
  },
  {
   "cell_type": "markdown",
   "metadata": {},
   "source": [
    "The Least-Squares technique (or a data-fit) now chooses the $x$ (or the $s_{i}s$) which minimise the Euclidean norm of $e$:\n",
    "$$\n",
    "\\text{min}\\; ||e||_{2}^{2} = \\text{min}\\; ||Ax - b||_{2}^{2},\n",
    "$$\n",
    "where $||\\cdot ||$ is the euclidean norm."
   ]
  },
  {
   "cell_type": "markdown",
   "metadata": {},
   "source": [
    "The solution to this problem is given by the *normal equations*:\n",
    "$$\n",
    "(A^T A) x = A^T b.\n",
    "\\label{eq:normal_eq} \\tag{4}\n",
    "$$"
   ]
  },
  {
   "cell_type": "markdown",
   "metadata": {},
   "source": [
    "This is a system of *ordinary linear equations* which you know very well from Linear Algebra. \n",
    "Write down the matrix $A^T A$ for the case of eq. (2) and show that it is a singular matrix. This is the mathematical reason for the argument that you provided in subtask 4.1. Add your choice of an additional equation to the system of (2) and show that (4) now will give a unique solution to the problem."
   ]
  },
  {
   "cell_type": "markdown",
   "metadata": {},
   "source": [
    "### Subtask 4.3"
   ]
  },
  {
   "cell_type": "markdown",
   "metadata": {},
   "source": [
    "Implement the algorithm of subtask 4.2 to solve the offset problem for the six catalogues `image013269.asc .. image013274.asc`. Your program needs to handle the genral case when an arbitrary amount of catalogues ($\\geq 2$) is put into that list, i.e. your program should not work only for the special case of six catalogues. Finally, create a scatter showing the offset pattern for the six observations.\n",
    "\n",
    "**Hints:** (1) Note that you have to solve a system of equations (2) for each of the $x-$ and $y-$coordinates; (2) How many equations do you need if you have $n$ catalogues?; (3) You can use loops to obtain the $d_{ij}s$ and to build up matrix $A$ and vector $b$; (4) You do not need to plot all the histograms - you should do so in the beginning to test your program though. Have a look at the `numpy.histogram` function. It is equivalent to `plt.histogram` but it does not plot the histogram. (5) Have a look at the `numpy.linalg.lstsq` function. You can directly feed into that function the matrix $A$ and the vector $b$ from eq. (3). There is no need for you to explicitely build and solve the normal equations from eq. (4)."
   ]
  },
  {
   "cell_type": "code",
   "execution_count": null,
   "metadata": {},
   "outputs": [],
   "source": []
  }
 ],
 "metadata": {
  "kernelspec": {
   "display_name": "Python 3 (ipykernel)",
   "language": "python",
   "name": "python3"
  },
  "language_info": {
   "codemirror_mode": {
    "name": "ipython",
    "version": 3
   },
   "file_extension": ".py",
   "mimetype": "text/x-python",
   "name": "python",
   "nbconvert_exporter": "python",
   "pygments_lexer": "ipython3",
   "version": "3.11.6"
  }
 },
 "nbformat": 4,
 "nbformat_minor": 4
}
