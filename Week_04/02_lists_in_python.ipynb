{
 "cells": [
  {
   "cell_type": "markdown",
   "metadata": {},
   "source": [
    "# Container (lists, strings, numpy-arrays) in Python\n",
    "Container come closest to what you know as *arrays* in other languages. \n",
    "\n",
    "We distinguish containers with the following propoerties:\n",
    "- Which data can be put in a specific container type (only specifc data, homegeneous data)?\n",
    "- Is a container mutable (can it be modified once it is created)?\n",
    "- Is there an order in the containers data (all containers that we treat here are ordered)"
   ]
  },
  {
   "cell_type": "markdown",
   "metadata": {},
   "source": [
    "You already know `numpy`-arrays and strings.\n",
    "- `numpy`-arrays are: homogeneous, mutable, ordered\n",
    "- strings are: homogeneous, immutable, ordered (see video within project)"
   ]
  },
  {
   "cell_type": "markdown",
   "metadata": {},
   "source": [
    "## The list container\n",
    "Lists are the `most general` ordered container in Python.\n",
    "\n",
    "They are: heterogeneous, mutable, ordered"
   ]
  },
  {
   "cell_type": "code",
   "execution_count": null,
   "metadata": {},
   "outputs": [],
   "source": [
    "# lists live within square brackets and the individual elements are separated by commas:\n",
    "l = [1, 2, 3, 4] \n",
    "print(type(l))\n",
    "print(l[0], l[2])   # print the first and third element of the list 'l'.\n",
    "                    # Indices of cbontainer elements start with 0 and end with 'n-1\n",
    "                    # (for a container with 'n' elements) as in C)\n",
    "print(len(l))       # length of a list\n",
    "print(l[-1], l[-2]) # negative indices i access indices n - i if n is\n",
    "                    # the number of elements in the container!"
   ]
  },
  {
   "cell_type": "markdown",
   "metadata": {},
   "source": [
    "### Contents of a list"
   ]
  },
  {
   "cell_type": "code",
   "execution_count": null,
   "metadata": {},
   "outputs": [],
   "source": [
    "# lists can be heterogeneous and contain 'everything'(!)\n",
    "import numpy \n",
    "\n",
    "def square(x):\n",
    "    return x**2\n",
    "\n",
    "# The following list contains an int, a float, a list, a module and a function!\n",
    "l = [1, 3.0, \"Thomas\", [1, 2], numpy, square]\n",
    "print(l[2], l[3][1], l[4].pi, l[5](5))"
   ]
  },
  {
   "cell_type": "markdown",
   "metadata": {},
   "source": [
    "### Creation of a list"
   ]
  },
  {
   "cell_type": "markdown",
   "metadata": {},
   "source": [
    "Lists are created manually only very seldomly. Most of the time they are the result of function calls."
   ]
  },
  {
   "cell_type": "code",
   "execution_count": null,
   "metadata": {},
   "outputs": [],
   "source": [
    "l = [1, 2, 3, 4]  # most simple list creation\n",
    "#print(l)\n",
    "\n",
    "n = list(range(0, 10)) # list of running numbers used for for-looping\n",
    "print(n)\n",
    "\n",
    "# The following for-loop is obviously easier and shorter\n",
    "# than a corresponding while-loop\n",
    "for num in n:\n",
    "    print(num)\n",
    "    \n",
    "#i = 1\n",
    "#while i < 9:\n",
    "#    print(i)\n",
    "#    i = i + 1"
   ]
  },
  {
   "cell_type": "code",
   "execution_count": null,
   "metadata": {},
   "outputs": [],
   "source": [
    "# file globbing (shell pattern matching)\n",
    "import glob\n",
    "\n",
    "# obtain a list of all files in the figs subdirectory\n",
    "l = glob.glob(\"./figs/*\")\n",
    "print(l)\n",
    "\n",
    "# loop over the filenames\n",
    "for f in l:\n",
    "    print(f)"
   ]
  },
  {
   "cell_type": "markdown",
   "metadata": {},
   "source": [
    "**Note:** In contrast to `numpy`-arrays, looping over list elements is the primary way to work with this container!"
   ]
  },
  {
   "cell_type": "markdown",
   "metadata": {},
   "source": [
    "### Element access in lists"
   ]
  },
  {
   "cell_type": "markdown",
   "metadata": {},
   "source": [
    "Access to list elements (individual elements, slicing) and iteration (`for`-loops) is very similar to `numpy`-arrays and strings."
   ]
  },
  {
   "cell_type": "code",
   "execution_count": null,
   "metadata": {},
   "outputs": [],
   "source": [
    "# sublists can be accessed via slicing\n",
    "l = [1, 2, 3, 4, 5, 6, 7, 8, 9, 10]\n",
    "print(l[3])    # access of an individual element\n",
    "print(l[1:3])  # access the sublist from the second (inclusive) to\n",
    "               # the fourth (exclusive) elements\n",
    "print(l[4:])   # access the sublist from the fifth element up to the end\n",
    "print(l[::2])  # access the sublist with each other element\n",
    "print(l[1:-1]) # negative indices also work for slices\n",
    "l[1:4] = [20, 21, 22]  # note that you can use slicing also on the left\n",
    "                       # side of an assigment! In that case the structure\n",
    "                       # of the right side (size of the container)\n",
    "                       # has to match the sliced container. Note that\n",
    "                       # this operation is only available for mutable\n",
    "                       # containers!\n",
    "print(l)                    "
   ]
  },
  {
   "cell_type": "markdown",
   "metadata": {},
   "source": [
    "**Note:** Unless with `numpy`-arrays, there is no `multidimensional` list and no notion of rows and columns! A list is always one-dimensional but it can contain other lists of course."
   ]
  },
  {
   "cell_type": "code",
   "execution_count": null,
   "metadata": {},
   "outputs": [],
   "source": [
    "l = [[1,2,3], [4,5,6], [7,8,9]]\n",
    "print(l)\n",
    "\n",
    "# access first element\n",
    "print(l[1])\n",
    "\n",
    "# chained access\n",
    "print(l[1][2])\n",
    "\n",
    "# this does not exist!\n",
    "print(l[1,2])"
   ]
  },
  {
   "cell_type": "markdown",
   "metadata": {},
   "source": [
    "### List methods\n",
    "Explore the list methods with the tabulator-key and the question mark!"
   ]
  },
  {
   "cell_type": "code",
   "execution_count": null,
   "metadata": {},
   "outputs": [],
   "source": [
    "a = [1,2,3]"
   ]
  },
  {
   "cell_type": "raw",
   "metadata": {},
   "source": [
    "In [1]: a = [1,2,3]\n",
    "\n",
    "In [2]: a.<TAB>\n",
    "a.append   a.copy     a.extend   a.insert   a.remove   a.sort     \n",
    "a.clear    a.count    a.index    a.pop      a.reverse  \n",
    "\n",
    "In [2]: a.sort?\n",
    "Docstring: L.sort(key=None, reverse=False) -> None -- stable sort *IN PLACE*\n",
    "Type:      builtin_function_or_method"
   ]
  },
  {
   "cell_type": "markdown",
   "metadata": {},
   "source": [
    "**Note:** With a heterogeneous container such as lists, not many operations make sense! They all concern modification, extension and sorting (if possible). The two mathematical operations `+` and `*` are defined as with the strings."
   ]
  },
  {
   "cell_type": "code",
   "execution_count": null,
   "metadata": {},
   "outputs": [],
   "source": [
    "l = [1, 2, 3]\n",
    "m = [4, 5, 6]\n",
    "\n",
    "print(l * 2)\n",
    "print(l + m)"
   ]
  },
  {
   "cell_type": "markdown",
   "metadata": {},
   "source": [
    "## Attention: In-place vs. copy operations!\n",
    "There are often identical operations for in-place modifications and operations on a new object. We talked about this already in the video lecture on strings!"
   ]
  },
  {
   "cell_type": "code",
   "execution_count": null,
   "metadata": {},
   "outputs": [],
   "source": [
    "l = [\"Thomas\", \"Oliver\", \"Johannes\"]\n",
    "\n",
    "# l.sort is an 'in place sort'\n",
    "# Use it if you do not need the old list anymore\n",
    "# (memory efficiency)\n",
    "l.sort()\n",
    "l"
   ]
  },
  {
   "cell_type": "code",
   "execution_count": null,
   "metadata": {},
   "outputs": [],
   "source": [
    "l = [\"Thomas\", \"Oliver\", \"Johannes\"]\n",
    "\n",
    "# sorted creates a new object with a sorted version of l\n",
    "# Use it if you still need the original list.\n",
    "m = sorted(l)\n",
    "print(m, l)"
   ]
  },
  {
   "cell_type": "markdown",
   "metadata": {},
   "source": [
    "## Example: A word count clone"
   ]
  },
  {
   "cell_type": "markdown",
   "metadata": {},
   "source": [
    "We want to count the number of lines and words in a text file. The exmaple shows how to read in textfiles in Python and that lists and strings work well together."
   ]
  },
  {
   "cell_type": "code",
   "execution_count": null,
   "metadata": {},
   "outputs": [],
   "source": [
    "!cat data/test.txt\n",
    "!wc data/test.txt"
   ]
  },
  {
   "cell_type": "code",
   "execution_count": null,
   "metadata": {},
   "outputs": [],
   "source": [
    "# our solution here\n",
    "\n",
    "n = range(10)\n",
    "textfile = open(\"data/test.txt\")\n",
    "\n",
    "print(dir(textfile))\n",
    "textfile.close()"
   ]
  },
  {
   "cell_type": "code",
   "execution_count": null,
   "metadata": {},
   "outputs": [],
   "source": [
    "# The following mimics the Linux wc-program\n",
    "\n",
    "textfile = open(\"data/test.txt\")\n",
    "\n",
    "n_lines = 0\n",
    "n_words = 0\n",
    "n_chars = 0\n",
    "\n",
    "for line in textfile:\n",
    "    # get rid of the '\\n' at the end of each line\n",
    "    # in the textfile\n",
    "    line = line.strip()\n",
    "    line_split = line.split()\n",
    "    \n",
    "    # get the number of words in the current line. It is just\n",
    "    # the number of list elements in 'line'\n",
    "    n_words += len(line_split)\n",
    "    \n",
    "    # In the lecture we got the number of characters by counting\n",
    "    # them from each string within line_split:\n",
    "    #for word in line_split:\n",
    "    #    n_chars = n_chars + len(word)\n",
    "    \n",
    "    # Oliver made me aware that there is an easier and\n",
    "    # more accurate way; just the length of the original\n",
    "    # line string! I guess that the difference of 7 to Linux\n",
    "    # in this case comes from the newline characters. Linux\n",
    "    # seems to count them, Python not - but I am not 100%\n",
    "    # sure!\n",
    "    n_chars += len(line)\n",
    "    \n",
    "    # the number of lines is just how often we iterate\n",
    "    # though the textfile\n",
    "    n_lines += 1\n",
    "    \n",
    "textfile.close()\n",
    "\n",
    "print(n_lines, n_words, n_chars)"
   ]
  }
 ],
 "metadata": {
  "kernelspec": {
   "display_name": "Python 3 (ipykernel)",
   "language": "python",
   "name": "python3"
  },
  "language_info": {
   "codemirror_mode": {
    "name": "ipython",
    "version": 3
   },
   "file_extension": ".py",
   "mimetype": "text/x-python",
   "name": "python",
   "nbconvert_exporter": "python",
   "pygments_lexer": "ipython3",
   "version": "3.9.19"
  }
 },
 "nbformat": 4,
 "nbformat_minor": 4
}
