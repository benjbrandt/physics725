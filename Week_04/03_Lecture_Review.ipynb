{
 "cells": [
  {
   "cell_type": "markdown",
   "metadata": {},
   "source": [
    "# Review Tasks for the lecture"
   ]
  },
  {
   "cell_type": "markdown",
   "metadata": {},
   "source": [
    "Here some small tasks with that you should be able to do directly after the lecture. I strongly advise you to look at them before the exercise. It gives you the opportunity to check what you did not yet understand and to ask your tutor in the case of problems."
   ]
  },
  {
   "cell_type": "markdown",
   "metadata": {},
   "source": [
    "## Review tasks on multi-dimensional `numpy`-arrays"
   ]
  },
  {
   "cell_type": "markdown",
   "metadata": {},
   "source": [
    "**Please try to answer the following questions before executing any code. Do this only to verify your answers and use appropriate help-utilities if you are uncertain! For each problem you should be able to explain WHY you obtain a certain result!**"
   ]
  },
  {
   "cell_type": "markdown",
   "metadata": {},
   "source": [
    "- What is the output of the follwing code:\n",
    "  ```\n",
    "  import numpy as np\n",
    "  \n",
    "  a = np.ones(30).reshape((6, 5))\n",
    "  \n",
    "  print(a * a)\n",
    "  print(a.dot(a.T))  # a.T transposes 'a'\n",
    "  print(a.sum())\n",
    "  print(a.sum(axis=0))\n",
    "  print(a.mean(axis=1))\n",
    "  ```"
   ]
  },
  {
   "cell_type": "markdown",
   "metadata": {},
   "source": [
    "- What is the result of the following code:\n",
    "  ```\n",
    "  import numpy as np\n",
    "  \n",
    "  a = np.ones(30).reshape((6, 5))\n",
    "  b = np.arange(30).reshape((6, 5))\n",
    "  \n",
    "  a[b <= 4] = 100\n",
    "  print(a)\n",
    "  ```"
   ]
  },
  {
   "cell_type": "markdown",
   "metadata": {},
   "source": [
    "- What is the result of the following code:\n",
    "  ```\n",
    "  import numpy as np\n",
    "  \n",
    "  a = np.zeros(36).reshape((6, 6))\n",
    "  a[:, [1, 2]] = 1\n",
    "  \n",
    "  print(a)\n",
    "  ```"
   ]
  },
  {
   "cell_type": "markdown",
   "metadata": {},
   "source": [
    "- What is the output of the following code:\n",
    "  ```\n",
    "  import numpy as np\n",
    "  \n",
    "  a = np.zeros(36).reshape((6, 6))\n",
    "  a[:,::3] = 1\n",
    "  a[::3,:] = 1\n",
    "  \n",
    "  print(a)\n",
    "  ```"
   ]
  },
  {
   "cell_type": "markdown",
   "metadata": {},
   "source": [
    "- What is the output of the following code:\n",
    "  ```\n",
    "  import numpy as np\n",
    "  \n",
    "  a = np.zeros((2, 5))\n",
    "  a[1,:] = 1\n",
    "  \n",
    "  mask = a.sum(axis=1) > 1\n",
    "  a[mask,:] = 100\n",
    "  \n",
    "  print(a)\n",
    "  ```"
   ]
  },
  {
   "cell_type": "markdown",
   "metadata": {},
   "source": [
    "### Creation of multidimensional numpy-arrays"
   ]
  },
  {
   "cell_type": "markdown",
   "metadata": {},
   "source": [
    "Use a maximum of three commands for each of the following:"
   ]
  },
  {
   "cell_type": "markdown",
   "metadata": {},
   "source": [
    "- Create a 2d-array of size $10\\times 10$ with 1 on the border and zero inside.\n",
    "- Create a $5\\times 5$ matrix with the values $1, 2, 3, 4$ below the main diagonal and zero everywhere else.\n",
    "- Create a $8\\times 8$ checkerboard matrix with zeros and ones."
   ]
  },
  {
   "cell_type": "markdown",
   "metadata": {},
   "source": [
    "### Slicing of 2d arrays"
   ]
  },
  {
   "cell_type": "markdown",
   "metadata": {},
   "source": [
    "- Read the file [data/slicing.txt](data/slicing.txt) into a two-dimensional `numpy`-array `a`.\n",
    "- Obtain the sub-arrays indicated by different colors with one numpy slice-command on `a` for each case.\n",
    "\n",
    "<img src=\"figs/slicing.png\" style=\"width: 400px;\" style=\"height: 400px;\">"
   ]
  },
  {
   "cell_type": "code",
   "execution_count": null,
   "metadata": {},
   "outputs": [],
   "source": [
    "# Your solution here please"
   ]
  },
  {
   "cell_type": "markdown",
   "metadata": {},
   "source": [
    "## Review tasks on lists and strings"
   ]
  },
  {
   "cell_type": "markdown",
   "metadata": {},
   "source": [
    "**Remark:** You learn about strings within Project 1."
   ]
  },
  {
   "cell_type": "markdown",
   "metadata": {},
   "source": [
    "**Please try to answer the following questions before executing any code. Do this only to verify your answers and use appropriate help-utilities if you are uncertain! For each problem you should be able to explain WHY you obtain a certain result!**"
   ]
  },
  {
   "cell_type": "markdown",
   "metadata": {},
   "source": [
    "<a id='basic_slicing'></a>\n",
    "- What is the output of the following code:\n",
    "\n",
    "```\n",
    "s = \"Jane Doe\"\n",
    "print(s[1], s[-1], s[1:3], s[1:3:-1], s[3:1:-1], s[:3], s[::2], s[::-1])\n",
    "```"
   ]
  },
  {
   "cell_type": "markdown",
   "metadata": {},
   "source": [
    "- What is the output of the following code:\n",
    "  ```\n",
    "  for x in \"Mississippi\".split(\"i\"):\n",
    "      print(x, end=\"\")\n",
    "  ```"
   ]
  },
  {
   "cell_type": "markdown",
   "metadata": {},
   "source": [
    "- What is the output of the following code:\n",
    "  ```\n",
    "  xlist = []\n",
    "  xlist.append(5)\n",
    "  xlist.append(10)\n",
    "  print(xlist)\n",
    "  ```"
   ]
  },
  {
   "cell_type": "markdown",
   "metadata": {},
   "source": [
    "- What is the output of the following code:\n",
    "  ```\n",
    "  zlist = []\n",
    "  zlist.append([5, 10])\n",
    "  print(zlist)\n",
    "  ```\n",
    "  **Note: Most people get this one wrong!**"
   ]
  },
  {
   "cell_type": "markdown",
   "metadata": {},
   "source": [
    "- What is the output of the following code:\n",
    "  ```\n",
    "  xlist = list(range(-3, 3))\n",
    "  print(xlist)\n",
    "  ```"
   ]
  },
  {
   "cell_type": "markdown",
   "metadata": {},
   "source": [
    "- What is the output of the following code:\n",
    "  ```\n",
    "  xlist = [2, 1, 3]\n",
    "  ylist = sorted(xlist)\n",
    "  print(xlist, ylist)\n",
    "  ```"
   ]
  },
  {
   "cell_type": "markdown",
   "metadata": {},
   "source": [
    "- What is the output of the following code:\n",
    "  ```\n",
    "  xlist = [2, 1, 3]\n",
    "  ylist = xlist.sort()\n",
    "  print(xlist, ylist)\n",
    "  ```\n",
    "  **Hint: Read carefully the documentation of the list-sort method BEFORE giving your answer! Most people get this one wrong!**"
   ]
  },
  {
   "cell_type": "markdown",
   "metadata": {},
   "source": [
    "- What is the output of the following code:\n",
    "  ```\n",
    "  xlist = [3, 2, 1, 0]\n",
    "  \n",
    "  for item in xlist:\n",
    "      print(item, end=\" \")\n",
    "  ```"
   ]
  },
  {
   "cell_type": "markdown",
   "metadata": {},
   "source": [
    "- What is the output of the follwing code:\n",
    "  ```\n",
    "  a = 1\n",
    "  b = 2\n",
    "  xlist = [a, b, a + b]\n",
    "  a = 0\n",
    "  b = 0\n",
    "\n",
    "  print(xlist)\n",
    "  ```"
   ]
  },
  {
   "cell_type": "markdown",
   "metadata": {},
   "source": [
    "- After the following commands have been executed, what is the value of `x`?\n",
    "\n",
    "```\n",
    "s = \"this is a test\"\n",
    "x = s.split()\n",
    "```"
   ]
  },
  {
   "cell_type": "markdown",
   "metadata": {},
   "source": [
    "- What is the output of the following code:\n",
    "  ```\n",
    "  a = 123456\n",
    "  s = str(a)\n",
    "  print(s[5] + s[4] + s[3] + s[2])\n",
    "  ```"
   ]
  }
 ],
 "metadata": {
  "kernelspec": {
   "display_name": "Python 3 (ipykernel)",
   "language": "python",
   "name": "python3"
  },
  "language_info": {
   "codemirror_mode": {
    "name": "ipython",
    "version": 3
   },
   "file_extension": ".py",
   "mimetype": "text/x-python",
   "name": "python",
   "nbconvert_exporter": "python",
   "pygments_lexer": "ipython3",
   "version": "3.9.19"
  }
 },
 "nbformat": 4,
 "nbformat_minor": 4
}
