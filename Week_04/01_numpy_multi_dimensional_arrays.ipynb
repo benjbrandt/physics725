{
 "cells": [
  {
   "cell_type": "markdown",
   "metadata": {},
   "source": [
    "## Multi-dimensional `numpy`-arrays\n",
    "We introduce multi-dimensional `numpy`-arrays in the special case with two dimensions. All of the follwing can naturally be extended to more dimensions though! `numpy`-arrays can have any number of dimensions!\n",
    "\n",
    "Two dimensional arrays occur naturally as matrices, as data tables read from files or when producing three-dimensional plots."
   ]
  },
  {
   "cell_type": "code",
   "execution_count": null,
   "metadata": {},
   "outputs": [],
   "source": [
    "import numpy as np\n",
    "\n",
    "a = np.array([[0,1,2,3], [4, 5, 6, 7], [8, 9, 10, 11]], dtype=np.float64)\n",
    "print(a)\n",
    "print(a.dtype)     # the data-type object.\n",
    "print(a.ndim)      # number of array dimensions\n",
    "print(a.shape)     # shape of an array (interesting mainly for multi-dimensional arrays)\n",
    "print(len(a))      # len says that there is an array with 3(!) elements.\n",
    "                   # Each of these array elements contains 3 elements itself"
   ]
  },
  {
   "cell_type": "markdown",
   "metadata": {},
   "source": [
    "### Multi-dimensional Array-creation\n",
    "To manually create multi-dimensional arrays, you usually use exactly the same methods as for one-dimensional arrays. Either, the functions directly support multiple dimensions or you can use the `reshape` method."
   ]
  },
  {
   "cell_type": "code",
   "execution_count": null,
   "metadata": {},
   "outputs": [],
   "source": [
    "import numpy as np\n",
    "import numpy.random as nr\n",
    "\n",
    "# create a one-dimensional array with 10 random number\n",
    "a = nr.random_sample(10)\n",
    "print(a)\n",
    "\n",
    "# create a 2x3-matrix of random numbers\n",
    "b = nr.random_sample((2, 3))\n",
    "b = nr.random(6).reshape((2, 3))\n",
    "print(b)\n",
    "\n",
    "c = np.linspace(0.0, 1.0, 6).reshape(2, 3)\n",
    "print(c)"
   ]
  },
  {
   "cell_type": "markdown",
   "metadata": {},
   "source": [
    "### Element access and Slicing\n",
    "Element access and slicing follow the same rules as in one dimension. The two dimensions are treated independently and separated with a comma within the element access operator. In the two-dimensional case, the first index represents rows and the second columns."
   ]
  },
  {
   "cell_type": "code",
   "execution_count": null,
   "metadata": {},
   "outputs": [],
   "source": [
    "import numpy as np\n",
    "\n",
    "a = np.arange(32).reshape((4,8)) # reshape usually creates a view (there are a\n",
    "                                 # few exceptions) on the original array\n",
    "                                 # with a modified shape\n",
    "print(a)\n",
    "print(a[1,2])                    # access element of second row, third column\n",
    "                                 # first index = row, second index = column\n",
    "print(a[1:3,2])                  # access elements in the second and third row and\n",
    "                                 # the third column   \n",
    "print(a[:,2])                    # access elements of third column    \n",
    "print(a[2,:])                    # access elements of third row\n",
    "print(a[1:-1,3:-1])              # access 2D-subarray\n",
    "a[1,:] = 100                     # slicing on the left-side of an assignment                # substitute subarray\n",
    "print(a)"
   ]
  },
  {
   "cell_type": "markdown",
   "metadata": {},
   "source": [
    "### Fancy indexing and masking\n",
    "\n",
    "Fancy indexing and masking also work in the multidimensional case. Do not get frustrated if you have difficulties with indexing and masking expressions at the beginning. It needs a bit of time and practise to get used to it."
   ]
  },
  {
   "cell_type": "code",
   "execution_count": null,
   "metadata": {},
   "outputs": [],
   "source": [
    "import numpy as np\n",
    "\n",
    "a = np.arange(28).reshape((4,7))\n",
    "print(a)\n",
    "\n",
    "# Sometimes we need to access certain elements within a matrix.\n",
    "# You need to provide the row-values and the column-values \n",
    "# in separate arrays!\n",
    "r = [1, 2, 3]\n",
    "c = [4, 2, 6]\n",
    "# The following acceses elements a[1, 4], a[2, 2] and a[3, 6]\n",
    "print(a[r, c])"
   ]
  },
  {
   "cell_type": "code",
   "execution_count": null,
   "metadata": {},
   "outputs": [],
   "source": [
    "import numpy as np\n",
    "\n",
    "a = np.arange(28).reshape((4,7))\n",
    "print(a)\n",
    "\n",
    "# We sometimes need to extract specific rows/columns from a matrix, e.g.\n",
    "# to plot two columns against each other:\n",
    "b = a[:, [1, 5]] # b consists of the second and sixth column of a\n",
    "print(b)"
   ]
  },
  {
   "cell_type": "code",
   "execution_count": null,
   "metadata": {},
   "outputs": [],
   "source": [
    "import numpy as np\n",
    "\n",
    "a = np.arange(28).reshape((4,7))\n",
    "print(a)\n",
    "\n",
    "# Note that slicing and fancy indexing constructs also can be used\n",
    "# on the left side of an assignment:\n",
    "a[:, [1, 5]] = 100\n",
    "print(a)"
   ]
  },
  {
   "cell_type": "code",
   "execution_count": null,
   "metadata": {},
   "outputs": [],
   "source": [
    "import numpy as np\n",
    "\n",
    "a = np.arange(28).reshape((4,7))\n",
    "print(a)\n",
    "\n",
    "# array masking works similar to the one-dimensional case\n",
    "mask = a > 18\n",
    "a[mask] = 999\n",
    "print(a)"
   ]
  },
  {
   "cell_type": "markdown",
   "metadata": {},
   "source": [
    "### Array operations\n",
    "\n",
    "The application of functions and operations between arrays happen *element-by-element*. By default, there is no notion of matrices or vectors!"
   ]
  },
  {
   "cell_type": "code",
   "execution_count": null,
   "metadata": {},
   "outputs": [],
   "source": [
    "import numpy as np\n",
    "import numpy.linalg as nl\n",
    "\n",
    "a = np.arange(4).reshape((2,2))\n",
    "b = np.arange(5, 9).reshape((2,2))\n",
    "\n",
    "print(a)\n",
    "print(b)\n",
    "print(a + b)\n",
    "print(a * b)\n",
    "print(np.sin(a))\n",
    "print(a.dot(b))  # this is a matrix multiplication\n",
    "print(nl.inv(a).dot(a)) # matrix inversion"
   ]
  },
  {
   "cell_type": "markdown",
   "metadata": {},
   "source": [
    "Interesting are dimensionality reduction functions:"
   ]
  },
  {
   "cell_type": "code",
   "execution_count": null,
   "metadata": {},
   "outputs": [],
   "source": [
    "import numpy as np\n",
    "\n",
    "a = np.arange(6).reshape((3,2))\n",
    "\n",
    "print(a)\n",
    "print(np.sum(a))          # sum over all elements of the array\n",
    "print(np.sum(a, axis=0))  # sum along the 'first axis' (rows)\n",
    "print(np.sum(a, axis=1))  # sum along the 'second axis' (columns)"
   ]
  },
  {
   "cell_type": "markdown",
   "metadata": {},
   "source": [
    "### Examples:"
   ]
  },
  {
   "cell_type": "markdown",
   "metadata": {},
   "source": [
    "### Reading simple data-tables into numpy-array\n",
    "\n",
    "Very simple data tables in textfiles (numbers layout in columns) can be read with the `np.loadtxt` function into numpy-arrays"
   ]
  },
  {
   "cell_type": "code",
   "execution_count": null,
   "metadata": {},
   "outputs": [],
   "source": [
    "!cat data/values.txt"
   ]
  },
  {
   "cell_type": "code",
   "execution_count": null,
   "metadata": {},
   "outputs": [],
   "source": [
    "import numpy as np\n",
    "\n",
    "# np.loadtxt automaticlly detects commentl ines starting\n",
    "# with '#'\n",
    "a = np.loadtxt(\"data/values.txt\")\n",
    "\n",
    "# The result is a two-dimensional array\n",
    "print(a)"
   ]
  },
  {
   "cell_type": "markdown",
   "metadata": {},
   "source": [
    "Note that `np.loadtxt` creates a two-dimensional array. To plot columns of a file, the columns must be explicitely extracted!"
   ]
  },
  {
   "cell_type": "code",
   "execution_count": null,
   "metadata": {},
   "outputs": [],
   "source": [
    "%matplotlib inline\n",
    "# plot columns of a file:\n",
    "import numpy as np\n",
    "import matplotlib.pyplot as plt\n",
    "\n",
    "a = np.loadtxt(\"data/values.txt\")\n",
    "\n",
    "# plot fourth column (y) against first column (x).\n",
    "# We must explicitely extract the columns from the 2d-array\n",
    "# a:\n",
    "x = a[:,0]\n",
    "y = a[:,1]\n",
    "\n",
    "plt.plot(x, y, 'o')"
   ]
  },
  {
   "cell_type": "markdown",
   "metadata": {},
   "source": [
    "### Random Walk"
   ]
  },
  {
   "cell_type": "markdown",
   "metadata": {},
   "source": [
    "We consider the one dimensional random walk. Starting from $x=0$ we walk in each time step a random step to the left or to the right with equal propability. We would like to estimate the quantities $\\langle d(t)\\rangle$ and $\\langle d(t)^2\\rangle$, where $d(t)$ is the distance from the origin at time $t$ after $N$ steps. With a simulation, we want to confirm known results from statistical mechanics:\n",
    "\n",
    "$$\n",
    "\\langle d(t)\\rangle = 0\n",
    "$$\n",
    "and\n",
    "$$\n",
    "\\langle d(t)^2\\rangle = N\n",
    "$$\n"
   ]
  },
  {
   "cell_type": "markdown",
   "metadata": {},
   "source": [
    "<img src=\"figs/random_walk.png\" style=\"width: 300px;\" style=\"height: 200px;\">"
   ]
  },
  {
   "cell_type": "markdown",
   "metadata": {},
   "source": [
    "<img src=\"figs/random_walk_schema.png\" style=\"width: 600px;\" style=\"height: 300px;\">"
   ]
  },
  {
   "cell_type": "code",
   "execution_count": null,
   "metadata": {},
   "outputs": [],
   "source": [
    "%matplotlib inline\n",
    "import numpy as np\n",
    "import numpy.random as nr\n",
    "import matplotlib.pyplot as plt\n"
   ]
  },
  {
   "cell_type": "code",
   "execution_count": null,
   "metadata": {},
   "outputs": [],
   "source": [
    "# our solution here\n",
    "\n",
    "import numpy as np\n",
    "import numpy.random as nr\n",
    "import matplotlib.pyplot as plt\n",
    "\n",
    "# The number of walkers and the time steps.\n",
    "# Just tsrat with a small number to be able to check\n",
    "# results. Remember what happend to me in the lecture :-)\n",
    "\n",
    "# for testing purposes\n",
    "#n_walkers = 5\n",
    "#n_steps = 7\n",
    "\n",
    "# for the real simulation\n",
    "n_walkers = 100\n",
    "n_steps = 1000\n",
    "\n",
    "# The random step array. Note that we need to\n",
    "# transform the 0 and 1 random numbers to -1 and 1:\n",
    "steps = nr.randint(0, 2 , (n_walkers, n_steps))\n",
    "steps[steps == 0] = -1\n",
    "\n",
    "# now get the distances and the distance squared:\n",
    "d = steps.cumsum(axis=1)\n",
    "d_squared = d * d\n",
    "\n",
    "# now get the means\n",
    "d_mean = d.mean(axis=0)\n",
    "d_squared_mean = d_squared.mean(axis=0)\n",
    "\n",
    "# and plot results\n",
    "times_plot = np.arange(1, n_steps + 1, 1)\n",
    "\n",
    "plt.plot(times_plot, d_mean,\n",
    "         label=r\"$\\langle d(t)\\rangle$\")\n",
    "plt.plot(times_plot, d_squared_mean,\n",
    "         label=r\"$\\langle d(t)^{2}\\rangle$\")\n",
    "plt.legend()\n",
    "plt.title(\"Random walk in 1d\")"
   ]
  },
  {
   "cell_type": "code",
   "execution_count": null,
   "metadata": {},
   "outputs": [],
   "source": []
  }
 ],
 "metadata": {
  "kernelspec": {
   "display_name": "Python 3 (ipykernel)",
   "language": "python",
   "name": "python3"
  },
  "language_info": {
   "codemirror_mode": {
    "name": "ipython",
    "version": 3
   },
   "file_extension": ".py",
   "mimetype": "text/x-python",
   "name": "python",
   "nbconvert_exporter": "python",
   "pygments_lexer": "ipython3",
   "version": "3.9.19"
  }
 },
 "nbformat": 4,
 "nbformat_minor": 4
}
