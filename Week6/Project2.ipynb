{
 "cells": [
  {
   "cell_type": "markdown",
   "id": "3c6a3a8c-933f-416d-b38a-643a0495f7b0",
   "metadata": {},
   "source": [
    "# Project 2: Forest Fire Simulation\n",
    "\n",
    "In this project, you will simulate the spread of a forest fire on a 100×100 grid. Each cell in the grid can be in one of four states: tree, grassland, burning tree, or burnt tree. The goal is to understand how forest density influences fire spread, and to explore extensions such as the effect of wind.\n",
    "\n",
    "## Part 1: Initial Setup of the Grid\n",
    "- Grid and States:\n",
    "- Create a 100×100 NumPy array to represent the forest.\n",
    "- Each cell can have one of the following values:\n",
    "\t0: Grassland (non-flammable)\n",
    "\t1: Tree\n",
    "\t2: Burning tree\n",
    "\t3: Burnt tree\n",
    "- Random Initialization: \n",
    "\t- Implement a function that initializes the grid with trees and grassland based on a tree density parameter (between 0 and 1).\n",
    "\t- Each cell should be a tree with probability = density, and grassland otherwise.\n",
    "Lightning Strike:\n",
    "\t- Randomly select a cell that contains a tree (1) and set it to burning (2).\n",
    "\n",
    "## Part 2: Fire Spread Simulation\n",
    "- Simulation Step:\n",
    "\t- In each time step:\n",
    "\t\t- A burning tree (2) becomes a burnt tree (3).\n",
    "\t\t- All trees (1) that are directly adjacent (up, down, left, right) to a burning tree catch fire and become burning trees (2) in the next step.\n",
    "- Run the Simulation:\n",
    "\t-Continue the simulation step-by-step until no more trees are burning.\n",
    "- Track Results:\n",
    "\t- Record the number of trees burnt at the end of the simulation.\n",
    "- Calculate the percentage of trees burnt compared to the initial number of trees.\n",
    "\n",
    "\n",
    "## Part 3: Visualization and Analysis\n",
    "- Graphical Representation:\n",
    "\t- Write a function that can visualize the grid at each time step by using matplotlib. Use different colors for each state.\n",
    "\t- Write a function that allows you to created an animated gif for a full run of the simulation, where each frame/picture corresponds to a time-step\n",
    "- Density Curve:\n",
    "\t- Run the simulation for various density values (e.g., from 0.1 to 1.0 in steps of 0.05). Clearly you need to run the simulation several times for each density value and take then the mean value of the resulting percentage of trees burnt.\n",
    "\t- Plot the percentage of trees burnt as a function of the initial density including the statistical uncertainties.\n",
    "- Critical Density:\n",
    "\t- From the plot, identify the critical density above which the fire spreads through almost the entire forest.\n",
    "- Expert Challenge (not strictly required to be handed in, however is required for achieving the best mark): Larger grids, e.g. 1000x1000 require in a naive simulation significantly more time, hence it is advisable to think about certain optimization aspects. One promising approach is a clever usage of numpy arrays and slicing. You can add one additional \"optimizedSimulation\" function that can handle efficiently also larger map sizes and is more time-effective than a naive approach that directly loops on your arrays.\n",
    "\n",
    "## Part 4: Extensions – Wind Effect\n",
    "- Wind Influence:\n",
    "\t- Modify the fire-spread rule to account for wind blowing in one direction (e.g., east). For example, a tree that is east of a burning tree can catch fire even if it is not only the direct next neighbour. The strength of the wind might determine the spread radius in one direction. It is important that you come up here with your own model of how wind might effect the spread of fire. It is your task for explain the choice of your model. Think independently! As long as your model choice is sensible, you will get full points. \n",
    "Discuss:\n",
    "\t- What impact does wind have on the spread of the fire in your model?\n",
    "\t- How does the critical density change when wind is included?\n",
    "\n",
    "## Deliverables:\n",
    "- A Jupyter-Notebook implementing the simulation, including\n",
    "\t- A plot showing burnt tree percentage vs. initial density.\n",
    "\t- One Animation of the fire spreading at a given density and one lighting event.\n",
    "\t- A brief written summary of findings and observations about the critical density and wind effects."
   ]
  },
  {
   "attachments": {},
   "cell_type": "markdown",
   "id": "5f0123eb",
   "metadata": {},
   "source": [
    "## Task 1"
   ]
  },
  {
   "cell_type": "code",
   "execution_count": 109,
   "id": "3b886b93-0cc5-488e-8d3e-acfe9a5db6a3",
   "metadata": {},
   "outputs": [],
   "source": [
    "# import needed modules\n",
    "import numpy as np \n",
    "from matplotlib import pyplot as plt \n"
   ]
  },
  {
   "cell_type": "code",
   "execution_count": 151,
   "id": "b85a27dc",
   "metadata": {},
   "outputs": [],
   "source": [
    "## legend\n",
    "GRASSLAND = 0\n",
    "TREE = 1\n",
    "BURNING = 2\n",
    "BURNT = 33\n",
    "\n",
    "size = 3\n",
    "forest = np.zeros([size,size])\n",
    "\n",
    "\n",
    "def fill_forest(density):\n",
    "    '''Creates an array of specified size with the probability for the trees being specified by the density. There is one burning tree due to a lightning strike'''\n",
    "\n",
    "    # fill the forest with trees depending on the density\n",
    "    forest[np.random.rand(size,size) < density] = 1\n",
    "\n",
    "    # Select a random value from the forest array and set it to 2, to indicate a burning tree\n",
    "    lightning_position = np.random.choice(size),np.random.choice(size)\n",
    "    forest[lightning_position] = 2\n",
    "\n",
    "fill_forest(0.7)\n"
   ]
  },
  {
   "cell_type": "code",
   "execution_count": 152,
   "id": "5c307f42",
   "metadata": {},
   "outputs": [
    {
     "data": {
      "text/plain": [
       "array([[0., 1., 1.],\n",
       "       [1., 1., 2.],\n",
       "       [1., 1., 0.]])"
      ]
     },
     "execution_count": 152,
     "metadata": {},
     "output_type": "execute_result"
    }
   ],
   "source": [
    "forest"
   ]
  },
  {
   "cell_type": "code",
   "execution_count": 153,
   "id": "f737023a",
   "metadata": {},
   "outputs": [],
   "source": [
    "def simulate_fire(forest):\n",
    "    grid_size = forest.shape[0]\n",
    "    history = [forest.copy()]\n",
    "    \n",
    "    while np.any(forest == BURNING):\n",
    "        new_forest = forest.copy()\n",
    "\n",
    "        for i in range(grid_size):\n",
    "            for j in range(grid_size):\n",
    "                if forest[i, j] == BURNING:\n",
    "                    new_forest[i, j] = BURNT\n",
    "                    for dx, dy in [(-1, 0), (1, 0), (0, -1), (0, 1)]:\n",
    "                        ni, nj = i + dx, j + dy\n",
    "                        if 0 <= ni < grid_size and 0 <= nj < grid_size:\n",
    "                            if forest[ni, nj] == TREE:\n",
    "                                new_forest[ni, nj] = BURNING\n",
    "\n",
    "        forest = new_forest\n",
    "        history.append(forest.copy())\n",
    "    \n",
    "    return history"
   ]
  },
  {
   "cell_type": "code",
   "execution_count": 149,
   "id": "67ae059d",
   "metadata": {},
   "outputs": [
    {
     "data": {
      "text/plain": [
       "([array([[2., 1., 1.],\n",
       "         [1., 1., 1.],\n",
       "         [1., 0., 0.]]),\n",
       "  array([[3., 2., 1.],\n",
       "         [2., 1., 1.],\n",
       "         [1., 0., 0.]]),\n",
       "  array([[3., 3., 2.],\n",
       "         [3., 2., 1.],\n",
       "         [2., 0., 0.]]),\n",
       "  array([[3., 3., 3.],\n",
       "         [3., 3., 2.],\n",
       "         [3., 0., 0.]]),\n",
       "  array([[3., 3., 3.],\n",
       "         [3., 3., 3.],\n",
       "         [3., 0., 0.]])],\n",
       " array([[3., 3., 3.],\n",
       "        [3., 3., 3.],\n",
       "        [3., 0., 0.]]))"
      ]
     },
     "execution_count": 149,
     "metadata": {},
     "output_type": "execute_result"
    }
   ],
   "source": [
    "simulate_fire(forest)\n"
   ]
  },
  {
   "cell_type": "code",
   "execution_count": null,
   "id": "5532be00",
   "metadata": {},
   "outputs": [],
   "source": []
  }
 ],
 "metadata": {
  "kernelspec": {
   "display_name": "Python 3 (ipykernel)",
   "language": "python",
   "name": "python3"
  },
  "language_info": {
   "codemirror_mode": {
    "name": "ipython",
    "version": 3
   },
   "file_extension": ".py",
   "mimetype": "text/x-python",
   "name": "python",
   "nbconvert_exporter": "python",
   "pygments_lexer": "ipython3",
   "version": "3.10.9"
  }
 },
 "nbformat": 4,
 "nbformat_minor": 5
}
