{
 "cells": [
  {
   "cell_type": "markdown",
   "id": "dce102a1-6dcd-4dd5-8a44-d1503666d87c",
   "metadata": {},
   "source": [
    "# A Rod-Pendulum System"
   ]
  },
  {
   "cell_type": "markdown",
   "id": "ae080528-2683-4819-a5b4-d67de4fe0b1d",
   "metadata": {
    "tags": []
   },
   "source": [
    "**Project deadline:** This project is due for submission on Thursday, 26.06.2025, 23:55. Please check carefully the *About the Projects* section below for further details."
   ]
  },
  {
   "cell_type": "markdown",
   "id": "ce602cd4-0ec7-445b-b774-dca33d7ca4a2",
   "metadata": {
    "jp-MarkdownHeadingCollapsed": true,
    "tags": []
   },
   "source": [
    "## About the Projects\n",
    "- You will get one project approximately every other week.\n",
    "- Besides the homework-assignments, you need to solve the projects in order to pass the course. Your final course mark consists of the mean of your project marks. We hand-out four projects during the term and we do not consider the worst project mark for your final course mark. Projects that you do not hand in are counted with a mark of 4.\n",
    "- The project needs to be submitted by uploading this notebook on eCampus. You do not need to modify the notebooks name before your upload. Your project must be on eCampus by Thursday 26th of June, 23:55. **No late uploads can be accepted!**\n",
    "- **In contrast to the homework exercises, each student must hand in an own solution for the projects! Of course you can and should discuss problems with each other! However, you need to be able to explain your solution in detail to your tutor and/or the lecturers! We might ask you for an interview about your project if the solution is (close to) identical to another students submission.**\n",
    "\n",
    "**Note:** The tutors, Matthias and I are very happy to help you out with difficulties you might have with the project tasks! You can ask questions any time but please do so well in advance of the deadlines!"
   ]
  },
  {
   "cell_type": "markdown",
   "id": "ba246b16-9109-456d-881d-228bcef930c4",
   "metadata": {},
   "source": [
    "## This project"
   ]
  },
  {
   "cell_type": "markdown",
   "id": "a25d13e0-a101-4181-a4ae-f30b6edcaeed",
   "metadata": {},
   "source": [
    "We consider the following system of a rod and two pendulums:\n",
    "\n",
    "<center><img src=\"figs/rod-pendulum.png\" width=400 /><center/>\n",
    "\n",
    "The massless rod of length $2L$ can rotate freely around the origin and is assumed to be massless. The system has two mounts (point masses $m_1$ and $m_2$) at the ends of the rod to which two pendulums are connected. The pendulums (lengths $l_1$ and $l_2$) can rotate freely around the mounts. The pendulums consist of two point masses $m_3$ and $m_4$ but are massless otherwise. The only external force on the system is gravitation and the systems movement all take place in the two-dimensional $x-y$ plane.\n",
    "\n",
    "To simplify things, we set all the four masses equal, i.e. $m = m_1 = m_2 = m_3 = m_4$ and also $l = l_1 = l_2$ with $l < L$."
   ]
  },
  {
   "cell_type": "markdown",
   "id": "0ad18f36-c4e3-45c0-930d-fbe67e0024b2",
   "metadata": {},
   "source": [
    "## Your tasks"
   ]
  },
  {
   "cell_type": "markdown",
   "id": "ba14d8af-f278-4ff0-a9b7-6e1a5e09c801",
   "metadata": {},
   "source": [
    "1. Identify generalised coordinates of the system. Write down your choice in a markdown cell.\n",
    "2. Use SymPy to analytically construct the Lagragian and the equations of motion for the system.\n",
    "3. Use SciPy to numerically solve the equations of motions for different initial conditions (at least 4). Use conditions that show a linear, predictable evolution of the system but also chaotic behaviour. Consider a timeline of around 50 seconds.\n",
    "4. We want to test whether our numeric solution is reasonable. To this end, consider and discuss the time evolution of the total energy of the system. What is your expectation and does the numeric solution behave as it should? Please investigate longer simulation times for this task.\n",
    "5. Plot and discuss the time evolution of the energies from rod (masses $m_1$, $m_2$) and the pendulums (masses $m_3$, $m_4$). \n",
    "6. Create animations showing the movements of the system.\n",
    "\n",
    "**Remarks:** (1) In the lecture I concentrated on demonstrating SymPy and how to use it. However, from the point-of-view of *code compactness* and *code reusabilty* the notebook is not good. I basically just continuously repeated and duplicated code for the two masses and for the two generalised coordinates. This becomes cumbersome and error-prone if more masses/coordinates are involved and quickly unmaintainable if you decide to modify the system, add new masses etc. Hence, please structure your project code and data in a better way from the very beginning; (2) In the SciPy lecture, I mentioned that, besides `odeint`, there is a second numeric solver `solve_ivp` within `scipy.integrate`. One possibility to earn bonus points is to compare and to discuss solutions of both solvers."
   ]
  },
  {
   "cell_type": "code",
   "execution_count": 118,
   "id": "4a48573f",
   "metadata": {},
   "outputs": [],
   "source": [
    "# import needed packages\n",
    "import sympy as sp\n",
    "import numpy as np\n",
    "import scipy as sc\n",
    "import matplotlib.pyplot as plt\n",
    "import scipy.integrate as si\n",
    "from matplotlib import animation"
   ]
  },
  {
   "attachments": {},
   "cell_type": "markdown",
   "id": "396041a4-dfb7-4262-a898-9d65de1d088e",
   "metadata": {},
   "source": [
    "## Task 1\n",
    "For the generalised coordinates I choose three angles: $\\theta_1$, $\\theta_2$ and $\\theta_3$, where $\\theta_1$ is the angle between the rod connecting the origin and mass $m_1$ \n",
    "and the horizontal. \\\n",
    "$\\theta_2$ describes the angle between the the rod connecting $m_1$ and $m_3$ and the horizontal.\n",
    "$\\theta_3$ describes the angle between the the rod connecting $m_2$ and $m_4$ and the horizontal."
   ]
  },
  {
   "cell_type": "markdown",
   "id": "b1285020-fefb-46d1-9b6d-ba3a40f5b7f2",
   "metadata": {},
   "source": [
    "## Task 2"
   ]
  },
  {
   "cell_type": "code",
   "execution_count": 119,
   "id": "f6a950fb",
   "metadata": {},
   "outputs": [],
   "source": [
    "# define the necessary constants and variables\n",
    "L, l, t, m, g= sp.symbols(r'L l t m g')\n",
    "theta1, theta2, theta3 = sp.symbols(r'\\theta_1 \\theta_2 \\theta_3', cls=sp.Function)\n",
    "theta1 = theta1(t)\n",
    "theta2 = theta2(t)\n",
    "theta3 = theta3(t)\n",
    "\n",
    "# create first and second derivative of the thetas\n",
    "theta1_d = sp.diff(theta1, t)\n",
    "theta2_d = sp.diff(theta2, t)\n",
    "theta3_d = sp.diff(theta3, t)\n",
    "theta1_dd = sp.diff(theta1_d, t)\n",
    "theta2_dd = sp.diff(theta2_d, t)\n",
    "theta3_dd = sp.diff(theta3_d, t)\n",
    "\n",
    "# define the x and y coordinates of the four masses in terms of the generalised coordinates\n",
    "x1 = L * sp.cos(theta1)\n",
    "y1 = L * sp.sin(theta1)\n",
    "\n",
    "x2 = -x1\n",
    "y2 = -y1 \n",
    "\n",
    "x3 = x1 + l * sp.cos(theta2)\n",
    "y3 = y1 + l * sp.sin(theta2)\n",
    "\n",
    "x4 = x2 + l * sp.cos(theta3)\n",
    "y4 = y2 + l * sp.sin(theta3)\n",
    "\n",
    "# define the kinetic and potential energies for all masses\n",
    "T1 = sp.Rational(1, 2) * m * (sp.diff(x1, t)**2 + sp.diff(y1, t)**2)\n",
    "V1 = m * g * y1\n",
    "T2 = sp.Rational(1, 2) * m * (sp.diff(x2, t)**2 + sp.diff(y2, t)**2)\n",
    "V2 = m * g * y2\n",
    "T3 = sp.Rational(1, 2) * m * (sp.diff(x3, t)**2 + sp.diff(y3, t)**2)\n",
    "V3 = m * g * y3\n",
    "T4 = sp.Rational(1, 2) * m * (sp.diff(x4, t)**2 + sp.diff(y4, t)**2)\n",
    "V4 = m * g * y4\n",
    "\n",
    "# define total kinetic and potential energies of the system and the Lagrangian\n",
    "T = (T1 + T2 + T3 + T4).simplify()\n",
    "V = (V1 + V2 + V3 + V4).simplify()\n",
    "Lagrange = (T - V).simplify()\n",
    "\n",
    "# create the Lagrange's equations\n",
    "LE1 = (sp.diff(Lagrange, theta1) - sp.diff(sp.diff(Lagrange, theta1_d), t)).simplify()\n",
    "LE2 = (sp.diff(Lagrange, theta2) - sp.diff(sp.diff(Lagrange, theta2_d), t)).simplify()\n",
    "LE3 = (sp.diff(Lagrange, theta3) - sp.diff(sp.diff(Lagrange, theta3_d), t)).simplify()\n",
    "\n",
    "# create the differential equations\n",
    "sol = sp.solve([LE1, LE2, LE3],  [theta1_dd, theta2_dd, theta3_dd])\n"
   ]
  },
  {
   "attachments": {},
   "cell_type": "markdown",
   "id": "f922f5cf",
   "metadata": {},
   "source": [
    "## Task 3"
   ]
  },
  {
   "cell_type": "code",
   "execution_count": 120,
   "id": "66ca86ae",
   "metadata": {},
   "outputs": [],
   "source": [
    "# convert symbolic expressions to numerical functions\n",
    "theta1_dd_n = sp.lambdify((theta1, theta2, theta3,\n",
    "                           theta1_d, theta2_d, theta3_d,\n",
    "                           L, l, m, g), sol[theta1_dd].simplify())\n",
    "\n",
    "theta2_dd_n = sp.lambdify([theta1, theta2, theta3,\n",
    "                           theta1_d, theta2_d, theta3_d,\n",
    "                           L, l, m, g], sol[theta2_dd].simplify())\n",
    "                           \n",
    "theta3_dd_n = sp.lambdify([theta1, theta2, theta3,\n",
    "                           theta1_d, theta2_d, theta3_d,\n",
    "                           L, l, m, g], sol[theta3_dd].simplify())"
   ]
  },
  {
   "cell_type": "code",
   "execution_count": 137,
   "id": "c9b3feb6",
   "metadata": {},
   "outputs": [],
   "source": [
    "def dSdt(S, t, L, l, m, g):\n",
    "    ''' This function takes the '''\n",
    "    theta1, theta2, theta3, u, v, w = S\n",
    "    \n",
    "    dtheta1dt = u\n",
    "    dtheta2dt = v\n",
    "    dtheta3dt = w\n",
    "    dudt = theta1_dd_n(theta1, theta2,  theta3, u, v, w, L, l, m, g)\n",
    "    dvdt = theta2_dd_n(theta1, theta2,  theta3, u, v, w, L, l, m, g)\n",
    "    dwdt = theta3_dd_n(theta1, theta2,  theta3, u, v, w, L, l, m, g)\n",
    "    \n",
    "    return [dtheta1dt, dtheta2dt, dtheta3dt, dudt, dvdt, dwdt]\n",
    "\n",
    "\n",
    "n_seconds = 20\n",
    "n_frames = 600\n",
    "L, l, m, g = 5, 2, 0.5, 9.81\n",
    "t_n = np.linspace(0.0, n_seconds, n_frames)\n",
    "\n",
    "S0 = [np.pi/4, np.pi-0.4, 0.1, 0, 0, 0]\n",
    "#S0 = [np.pi / 4., 0.0, 0.0, 0.0]\n",
    "sol_dgl = si.odeint(dSdt, S0, t=t_n, args=(L, l, m, g))\n",
    "#plt.plot(t_n, sol_dgl[:,3])"
   ]
  },
  {
   "cell_type": "code",
   "execution_count": 138,
   "id": "f6c5a618",
   "metadata": {},
   "outputs": [],
   "source": [
    "def get_x1y1x2y2x3y3x4y4(theta1, theta2, theta3):\n",
    "    return (L * np.cos(theta1),\n",
    "            L * np.sin(theta1),\n",
    "            - L * np.cos(theta1),\n",
    "            - L * np.sin(theta1),\n",
    "            L * np.cos(theta1) + l * np.cos(theta2),\n",
    "            L * np.sin(theta1) + l * np.sin(theta2),\n",
    "            - L * np.cos(theta1) + l * np.cos(theta3),\n",
    "            - L * np.sin(theta1) + l * np.sin(theta3)\n",
    "    )\n",
    "\n",
    "# fix constants\n",
    "L, l, m, g = 5, 2, 0.5, 9.81\n",
    "\n",
    "#get_x1y1x2y2x3y3x4y4(sol_dgl[:,0], sol_dgl[:,1], sol_dgl[:,2])\n",
    "\n",
    "#t1, t2, t3, t4, t5, t6, t7, t8 = np.shape(get_x1y1x2y2x3y3x4y4(0,0,0))\n",
    "\n",
    "x1_n, y1_n, x2_n, y2_n, x3_n, y3_n, x4_n, y4_n = get_x1y1x2y2x3y3x4y4(sol_dgl[:,0], sol_dgl[:,1], sol_dgl[:,2])\n"
   ]
  },
  {
   "cell_type": "code",
   "execution_count": 145,
   "id": "c6f79265",
   "metadata": {},
   "outputs": [
    {
     "data": {
      "image/png": "[encoded data removed]",
      "text/plain": [
       "<Figure size 800x800 with 1 Axes>"
      ]
     },
     "metadata": {},
     "output_type": "display_data"
    }
   ],
   "source": [
    "def animate(i, ln1):\n",
    "    #ln1.set_data([x4_n[i], x2_n[i], x1_n[i],x3_n[i]], [x4_n[i], x2_n[i], x1_n[i],x3_n[i]])\n",
    "    #ln1.set_data([x3_n[i], x1_n[i],0, x2_n[i], x4_n[i]],[y3_n[i], y1_n[i], 0, y2_n[i], y4_n[i]])\n",
    "    ln4.set_data([0],[0])\n",
    "    ln3.set_data([0,0],[0,-8])\n",
    "    ln2.set_data([-2.5,2.5],[-8,-8])\n",
    "    ln1.set_data([x4_n[i] ,x2_n[i], x1_n[i], x3_n[i]], [y4_n[i], y2_n[i], y1_n[i], y3_n[i]])\n",
    "    \n",
    "    return ln1,\n",
    "\n",
    "fig, ax = plt.subplots(1,1, figsize=(8,8))\n",
    "\n",
    "# pemdulum system\n",
    "\n",
    "ln3, = plt.plot([], lw=10, markersize=0, marker='o', \n",
    "                color='gray', markerfacecolor='blue')\n",
    "ln4, = plt.plot([], lw=10, markersize=15, marker='o', \n",
    "                color='gray', markerfacecolor='black')\n",
    "ln2, = plt.plot([], lw=10, markersize=0, marker='o', \n",
    "                color='gray', markerfacecolor='blue')\n",
    "ln1, = plt.plot([], lw=3, markersize=15, marker='o', \n",
    "                color='black', markerfacecolor='blue')\n",
    "\n",
    "\n",
    "#ln2, = plt.plot([],[], lw=3, markersize=15, marker='o', \n",
    "#                color='black', markerfacecolor='red')\n",
    "\n",
    "# movement traces of second pendulum:\n",
    "#ln2, = plt.plot([], [], lw=2, color='blue', alpha=0.4)\n",
    "\n",
    "ax.set_ylim(-10, 10)\n",
    "ax.set_xlim(-10, 10)\n",
    "ax.grid()\n",
    "ax.set_aspect('equal')\n",
    "\n",
    "ani = animation.FuncAnimation(fig, animate, fargs=(ln1,),\n",
    "                              frames=n_frames)\n",
    "\n",
    "ani.save('pendulum.gif', writer='pillow', fps=(n_frames / n_seconds))"
   ]
  },
  {
   "cell_type": "code",
   "execution_count": 124,
   "id": "ed6c6eea",
   "metadata": {},
   "outputs": [],
   "source": [
    "# define the x and y coordinates of the four masses in terms of the generalised coordinates\n",
    "#x1 = L * sp.cos(theta1)\n",
    "#y1 = L * sp.sin(theta1)\n",
    "#\n",
    "#x2 = - L * sp.cos(theta1)\n",
    "#y2 = - L * sp.sin(theta1)\n",
    "#\n",
    "#x3 = x1 + l * sp.sin(theta2)\n",
    "#y3 = y1 - l * sp.cos(theta2)\n",
    "#\n",
    "#x4 = x2 + l * sp.sin(theta3)\n",
    "#y4 = y2 - l * sp.cos(theta3)"
   ]
  }
 ],
 "metadata": {
  "kernelspec": {
   "display_name": "Python 3 (ipykernel)",
   "language": "python",
   "name": "python3"
  },
  "language_info": {
   "codemirror_mode": {
    "name": "ipython",
    "version": 3
   },
   "file_extension": ".py",
   "mimetype": "text/x-python",
   "name": "python",
   "nbconvert_exporter": "python",
   "pygments_lexer": "ipython3",
   "version": "3.10.9"
  }
 },
 "nbformat": 4,
 "nbformat_minor": 5
}
