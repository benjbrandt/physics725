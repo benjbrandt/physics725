{
 "cells": [
  {
   "cell_type": "markdown",
   "id": "dce102a1-6dcd-4dd5-8a44-d1503666d87c",
   "metadata": {},
   "source": [
    "# A Rod-Pendulum System"
   ]
  },
  {
   "cell_type": "markdown",
   "id": "ae080528-2683-4819-a5b4-d67de4fe0b1d",
   "metadata": {
    "tags": []
   },
   "source": [
    "**Project deadline:** This project is due for submission on Thursday, 26.06.2025, 23:55. Please check carefully the *About the Projects* section below for further details."
   ]
  },
  {
   "cell_type": "markdown",
   "id": "ce602cd4-0ec7-445b-b774-dca33d7ca4a2",
   "metadata": {
    "jp-MarkdownHeadingCollapsed": true,
    "tags": []
   },
   "source": [
    "## About the Projects\n",
    "- You will get one project approximately every other week.\n",
    "- Besides the homework-assignments, you need to solve the projects in order to pass the course. Your final course mark consists of the mean of your project marks. We hand-out four projects during the term and we do not consider the worst project mark for your final course mark. Projects that you do not hand in are counted with a mark of 4.\n",
    "- The project needs to be submitted by uploading this notebook on eCampus. You do not need to modify the notebooks name before your upload. Your project must be on eCampus by Thursday 26th of June, 23:55. **No late uploads can be accepted!**\n",
    "- **In contrast to the homework exercises, each student must hand in an own solution for the projects! Of course you can and should discuss problems with each other! However, you need to be able to explain your solution in detail to your tutor and/or the lecturers! We might ask you for an interview about your project if the solution is (close to) identical to another students submission.**\n",
    "\n",
    "**Note:** The tutors, Matthias and I are very happy to help you out with difficulties you might have with the project tasks! You can ask questions any time but please do so well in advance of the deadlines!"
   ]
  },
  {
   "cell_type": "markdown",
   "id": "ba246b16-9109-456d-881d-228bcef930c4",
   "metadata": {},
   "source": [
    "## This project"
   ]
  },
  {
   "cell_type": "markdown",
   "id": "a25d13e0-a101-4181-a4ae-f30b6edcaeed",
   "metadata": {},
   "source": [
    "We consider the following system of a rod and two pendulums:\n",
    "\n",
    "<center><img src=\"figs/rod-pendulum.png\" width=400 /><center/>\n",
    "\n",
    "The massless rod of length $2L$ can rotate freely around the origin and is assumed to be massless. The system has two mounts (point masses $m_1$ and $m_2$) at the ends of the rod to which two pendulums are connected. The pendulums (lengths $l_1$ and $l_2$) can rotate freely around the mounts. The pendulums consist of two point masses $m_3$ and $m_4$ but are massless otherwise. The only external force on the system is gravitation and the systems movement all take place in the two-dimensional $x-y$ plane.\n",
    "\n",
    "To simplify things, we set all the four masses equal, i.e. $m = m_1 = m_2 = m_3 = m_4$ and also $l = l_1 = l_2$ with $l < L$."
   ]
  },
  {
   "cell_type": "markdown",
   "id": "0ad18f36-c4e3-45c0-930d-fbe67e0024b2",
   "metadata": {},
   "source": [
    "## Your tasks"
   ]
  },
  {
   "cell_type": "markdown",
   "id": "ba14d8af-f278-4ff0-a9b7-6e1a5e09c801",
   "metadata": {},
   "source": [
    "1. Identify generalised coordinates of the system. Write down your choice in a markdown cell.\n",
    "2. Use SymPy to analytically construct the Lagragian and the equations of motion for the system.\n",
    "3. Use SciPy to numerically solve the equations of motions for different initial conditions (at least 4). Use conditions that show a linear, predictable evolution of the system but also chaotic behaviour. Consider a timeline of around 50 seconds.\n",
    "4. We want to test whether our numeric solution is reasonable. To this end, consider and discuss the time evolution of the total energy of the system. What is your expectation and does the numeric solution behave as it should? Please investigate longer simulation times for this task.\n",
    "5. Plot and discuss the time evolution of the energies from rod (masses $m_1$, $m_2$) and the pendulums (masses $m_3$, $m_4$). \n",
    "6. Create animations showing the movements of the system.\n",
    "\n",
    "**Remarks:** (1) In the lecture I concentrated on demonstrating SymPy and how to use it. However, from the point-of-view of *code compactness* and *code reusabilty* the notebook is not good. I basically just continuously repeated and duplicated code for the two masses and for the two generalised coordinates. This becomes cumbersome and error-prone if more masses/coordinates are involved and quickly unmaintainable if you decide to modify the system, add new masses etc. Hence, please structure your project code and data in a better way from the very beginning; (2) In the SciPy lecture, I mentioned that, besides `odeint`, there is a second numeric solver `solve_ivp` within `scipy.integrate`. One possibility to earn bonus points is to compare and to discuss solutions of both solvers."
   ]
  },
  {
   "cell_type": "code",
   "execution_count": null,
   "id": "396041a4-dfb7-4262-a898-9d65de1d088e",
   "metadata": {},
   "outputs": [],
   "source": [
    "# your solution starts here"
   ]
  },
  {
   "cell_type": "code",
   "execution_count": null,
   "id": "b1285020-fefb-46d1-9b6d-ba3a40f5b7f2",
   "metadata": {},
   "outputs": [],
   "source": []
  }
 ],
 "metadata": {
  "kernelspec": {
   "display_name": "Python 3 (ipykernel)",
   "language": "python",
   "name": "python3"
  },
  "language_info": {
   "codemirror_mode": {
    "name": "ipython",
    "version": 3
   },
   "file_extension": ".py",
   "mimetype": "text/x-python",
   "name": "python",
   "nbconvert_exporter": "python",
   "pygments_lexer": "ipython3",
   "version": "3.11.6"
  }
 },
 "nbformat": 4,
 "nbformat_minor": 5
}
