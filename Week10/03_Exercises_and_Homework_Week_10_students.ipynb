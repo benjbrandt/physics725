{
 "cells": [
  {
   "cell_type": "markdown",
   "metadata": {},
   "source": [
    "# The Cosmic Microwave Background - a perfect black body"
   ]
  },
  {
   "cell_type": "markdown",
   "metadata": {},
   "source": [
    "**This task/homework is due for submission on the 3rd of July 2025 at 23:55.**"
   ]
  },
  {
   "cell_type": "markdown",
   "metadata": {},
   "source": [
    "We will demonstrate that the cosmic microwave background is one of the best known measurements of a black body spectrum. If you are a non-astronomer and the *cosmic microwave background* does not tell you anything, please have a brief look at the [Wikipedia article](https://en.wikipedia.org/wiki/Cosmic_microwave_background).\n",
    " \n",
    "The black-body spectrum is governed by the Planck distribution which describes the spectral radiance $B(\\nu, T)$ of a body for frequency $\\nu$ at absolute temperature $T$:\n",
    "\n",
    "$$\n",
    "B(\\nu,T)=\\frac{2h\\nu^3}{c^2} \\frac{1}{\\exp{\\left(\\frac{h\\nu}{k_{B}T}\\right)-1}},\n",
    "\\tag{1}\n",
    "$$\n",
    "where $h$ is the Planck constant, $k_B$ the Boltzmann constant and $c$ the speed of light. The unit of $B(\\nu,T)$ can be expressed in many different ways. For our purposes we use MJy / sr (Mega-Jansky per steradian).\n",
    "\n",
    "If you would like to brush up your knowledge on Planck's law, the [Wikipedia article](https://en.wikipedia.org/wiki/Planck%27s_law) about it is a very good read.\n"
   ]
  },
  {
   "cell_type": "markdown",
   "metadata": {},
   "source": [
    "The file [data/Cobe.txt](data/Cobe.txt) contains the cosmic microwave background data (measurements of $B(\\nu, T)$ from the [COBE satellite](http://lambda.gsfc.nasa.gov/product/cobe/). The first column gives the\n",
    "frequency $\\nu$ (actually the inverse of the wavelength in 1/cm), the second column the spectrum $B(\\nu, T)$ in MJy/sr (MJy:\n",
    "Mega-Jansky, 1 Jy= $10^{-26}$ W/(Hz m$^2$) ; sr: Steradian) and the third column shows the uncertainty on the spectrum in kJy/sr.\n",
    "\n",
    "Your task is to fit the Cobe data to eq. (1) and to obtain an estimate for the temperature of our Universe.\n",
    "\n",
    "We break down the task as follows:\n",
    "\n",
    "1. Plot the datapoints together with their error bars. Please note the different units for the $B(\\nu, T)$ measurements and their errors.\n",
    "\n",
    "2. As usual for numeric tasks, we need to transfer our formulas to a dimensionless form. Please use `astropy.units` and `astropy.constants` to show that eq. (1) reads for the units of our data:\n",
    "$$\n",
    "B(x,\\hat{T})=39.729x^{3} \\frac{1}{\\exp{\\left(1.439x/\\hat{T}\\right)-1}},\n",
    "\\tag{2}\n",
    "$$ where $\\hat{T} = \\frac{T}{1K}$ and $x=\\nu\\cdot 1\\text{cm}$. Please do not get confused that *frequency* is quoted in 1/cm. The relation between frequency $\\nu$ and wavelength $\\lambda$ of a photon is $\\nu=\\frac{c}{\\lambda}$. Working with $c=1$ lets us quote the frequency in units of 1/length.\n",
    "\n",
    "3. Use `scipy.optimize.curve_fit` to perform a fit to the COBE data and to estimate the temperature of the universe. What is the error on the temperature? Plot the data points together with the best-fit Planck-distribution.\n",
    "\n",
    "4. When I first dealt with this problem, I did not have available the powerful units-module from `astropy`. From eq. (1), I only could reliably reduce the $h/k_B$-term within the exponential function to a dimensionless unit but I was completely unsure about the numeric value of my prefactor. To proceed, I considered the fit-function\n",
    "$$\n",
    "B(x, A_0, \\hat{T})=A_0x^{3} \\frac{1}{\\exp{\\left(1.439x/\\hat{T}\\right)-1}},\n",
    "\\tag{3}\n",
    "$$\n",
    "with $A_0$ as a second fit parameter. Please do the same and confirm that the fitted $A_0$ coincides with the amplitude from task 2. What are now the errors on the fit parameters $A_0$ and $\\hat{T}$? With knowing the result, I finally could find the error with my initial unit conversions.\n"
   ]
  },
  {
   "cell_type": "code",
   "execution_count": null,
   "metadata": {
    "tags": []
   },
   "outputs": [],
   "source": [
    "# your solution here"
   ]
  },
  {
   "cell_type": "code",
   "execution_count": null,
   "metadata": {},
   "outputs": [],
   "source": []
  }
 ],
 "metadata": {
  "kernelspec": {
   "display_name": "Python 3 (ipykernel)",
   "language": "python",
   "name": "python3"
  },
  "language_info": {
   "codemirror_mode": {
    "name": "ipython",
    "version": 3
   },
   "file_extension": ".py",
   "mimetype": "text/x-python",
   "name": "python",
   "nbconvert_exporter": "python",
   "pygments_lexer": "ipython3",
   "version": "3.9.19"
  }
 },
 "nbformat": 4,
 "nbformat_minor": 4
}
