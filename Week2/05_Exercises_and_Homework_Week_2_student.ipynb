{
 "cells": [
  {
   "cell_type": "markdown",
   "metadata": {
    "nbgrader": {
     "grade": false,
     "grade_id": "cell-515e01b25bda86a9",
     "locked": true,
     "schema_version": 3,
     "solution": false,
     "task": false
    }
   },
   "source": [
    "# Exercises and Homework for week 2"
   ]
  },
  {
   "cell_type": "markdown",
   "metadata": {
    "nbgrader": {
     "grade": false,
     "grade_id": "cell-14ca577e70096fbf",
     "locked": true,
     "schema_version": 3,
     "solution": false,
     "task": false
    }
   },
   "source": [
    "## physics725: Scientific Programming with Python (SS 2025)\n",
    "Matthias Schott & Thomas Erben"
   ]
  },
  {
   "cell_type": "markdown",
   "metadata": {
    "nbgrader": {
     "grade": false,
     "grade_id": "cell-58e8949e2e41603c",
     "locked": true,
     "schema_version": 3,
     "solution": false,
     "task": false
    }
   },
   "source": [
    "Homework is due on **Thursday, 01/05/2025, 11:55pm**\n",
    "\n",
    " * You only learn a programming language by actively praticing and using it! We therefore **strongly** advise you to work on the homework problems.\n",
    " * Please discuss the problems with your student peers and with your tutor.\n",
    " * Your code(s) need(s) to be well and appropriately commented!\n",
    " * Submit your homework. Please ask your tutor if you do not know how to do it. **Please only submit one solution per homework group!**\n",
    "\n",
    "**Topics of this exercise:**\n",
    " * Scalar data types in Python *int*, *float* and *bool*\n",
    " * Control structures *if* and *while*\n",
    " * Floating poing accuracy\n",
    " * Implementation and analysis of simple algorithms"
   ]
  },
  {
   "cell_type": "markdown",
   "metadata": {},
   "source": [
    "# 1. Lecture review (0 points)"
   ]
  },
  {
   "cell_type": "markdown",
   "metadata": {},
   "source": [
    "If you did the lecture review questions [04_Lecture_Review.ipynb](04_Lecture_Review.ipynb) (strongly recommended!): \n",
    "Please discuss with your tutor and your group any issues/problems you had with them."
   ]
  },
  {
   "cell_type": "markdown",
   "metadata": {
    "tags": []
   },
   "source": [
    "# 2. Machine epsilon (5 points)\n",
    "In class we talked about inaccuracies that occur in a computer when performing operations with floating-point numbers. An important value to quantify floating-point accuracy is the *machine epsilon*. Please have a look at the [Wikipedia article on the machine epsilon](https://en.wikipedia.org/wiki/Machine_epsilon) to learn more about it. \n",
    "\n",
    "The *machine epsilon* is defined as the smallest number $\\epsilon_m$ such that $1.0 + \\epsilon_m > 1.0$. According to the Wikipedia article, the machine epsilon of your programming language can be estimated up to a factor of two with the algorithm:\n",
    "\n",
    "```\n",
    "epsilon_m = 1.0;\n",
    "\n",
    "while (1.0 + 0.5 * epsilon_m) > 1.0:\n",
    "    epsilon_m = 0.5 * epsilon_m\n",
    "\n",
    "```\n",
    "Use this algorithm to determine the *machine epsilon* of the Python-float type. Which float-type is used in Python (see the table of the Wikipedia article)?"
   ]
  },
  {
   "cell_type": "code",
   "execution_count": 2,
   "metadata": {
    "tags": []
   },
   "outputs": [
    {
     "name": "stdout",
     "output_type": "stream",
     "text": [
      "2.220446049250313e-16\n"
     ]
    }
   ],
   "source": [
    "epsilon_m = 1.0;\n",
    "\n",
    "while (1.0 + 0.5 * epsilon_m) > 1.0:\n",
    "    epsilon_m = 0.5 * epsilon_m\n",
    "print(epsilon_m)"
   ]
  },
  {
   "cell_type": "markdown",
   "metadata": {},
   "source": [
    "--> The float-type in Python uses double precision (binary64 in IEEE 754 - 2008)"
   ]
  },
  {
   "cell_type": "markdown",
   "metadata": {},
   "source": [
    "# 3. Test of natural numbers for the prime property (10 points)"
   ]
  },
  {
   "cell_type": "markdown",
   "metadata": {},
   "source": [
    "In the following, we want to develop a program to test positive integer numbers for the prime property. A positive integer larger than 1 is a prime if it cannot be formed by multiplying two smaller natural numbers. \n",
    "\n",
    "The student Lydia Leibnitz proposes the following algorithm for the task:\n",
    "1. We are given a natural number $n$ that we want to test\n",
    "2. In a loop, we test whether `n % m == 0` for all natural numbers $m$ with $2\\leq m < \\sqrt{n}$\n",
    "3. If the test (2) is `True` for any of the tested $m$, then $n$ is not prime. Otherwise, we have a prime number.\n",
    "\n",
    "Lydia gives the following proof for the correctness of her algorithm:\n",
    "Divisors of $n$ come in pairs and say $n = ab$. Then **exactly one** of the two follwing possibilities can be true:\n",
    "1. $a < \\sqrt{n} \\text{ and } b > \\sqrt{n}$\n",
    "2. $a > \\sqrt{n} \\text{ and } b < \\sqrt{n}$\n",
    "\n",
    "To see this, we assume $a< \\sqrt{n} \\text{ and } b < \\sqrt{n}$. Then follows $n = ab < \\sqrt{n}\\sqrt{n} < n$ which leads to the contradiction $n<n$! Similarily, we conclude that not both, $a$ and $b$ can be larger than $\\sqrt{n}$. It follows that one of the divisors of $n$ must be smaller than $\\sqrt{n}$ and we only need to test $2\\leq m < \\sqrt{n}$ to check whether $n$ is a prime.\n",
    "\n",
    "Your tasks:\n",
    "1. Implement Lydias algorithm to test a given number $n$ for the prime property. Your program should report with a text-message, which number is tested and whether it is a prime or not.\n",
    "2. Test your program with the numbers 8, 105, 177, 51, 5, 47, 199 and 967. Your program should report the last four numbers as primes and the others as non-prime.\n",
    "3. Embed your test in a loop and consider systematically all numbers $2\\leq n \\leq 100$ for the prime property. What do you observe?\n",
    "4. (3.) should show you that your program does not work as expected! Find the underlying algorithmic problem and correct your program! Document within your notebook or script what the problem is!\n",
    "\n",
    "**Hint:** In the past, many students *did not find any problem* with their implemented algorithm. In that case, your first issue is that you did **not** implement the algorithm described above."
   ]
  },
  {
   "cell_type": "markdown",
   "metadata": {},
   "source": [
    "### Part 1: Implementing the algorithm"
   ]
  },
  {
   "cell_type": "code",
   "execution_count": 3,
   "metadata": {
    "tags": []
   },
   "outputs": [],
   "source": [
    "#  import numpy since we need the sqrt function\n",
    "import numpy as np\n",
    "\n",
    "# initialize n, the number we want to test the prime property of \n",
    "def prime_test(n):                              # im putting the algorithm into a function so I can easily use it on for any number I want to test  \n",
    "    m = 2                                       # initialize m for the while loop\n",
    "    while 2 <= m < np.sqrt(n):                  # the loop will start at m = 2 going up to the largest value of m that is still smaller than the square root of n\n",
    "        if n % m == 0:                          # statement that checks whether n can be divided by m without rest \n",
    "            print(n, 'is not a prime number')   # print out that n is not the prime is n % m == 0\n",
    "            break                               # if this case occurs the loop is exited\n",
    "        else:                                   \n",
    "            m = m+1                             # if n can not be divided by m, m is increased by one for the next iteration of the loop.\n",
    "    else:                                       \n",
    "        print(n, 'is a prime number')           # if n cant be divided by any number m which fulfills the condition: 2 <= m < np.sqrt(n), n is declared a prime number    \n",
    "         "
   ]
  },
  {
   "cell_type": "markdown",
   "metadata": {},
   "source": [
    "### Part 2: Testing the numbers 8, 105, 177, 51, 5, 47, 199 and 967"
   ]
  },
  {
   "cell_type": "code",
   "execution_count": 4,
   "metadata": {
    "tags": []
   },
   "outputs": [
    {
     "name": "stdout",
     "output_type": "stream",
     "text": [
      "8 is not a prime number\n",
      "105 is not a prime number\n",
      "177 is not a prime number\n",
      "51 is not a prime number\n",
      "5 is a prime number\n",
      "47 is a prime number\n",
      "199 is a prime number\n",
      "967 is a prime number\n"
     ]
    }
   ],
   "source": [
    "# calling the previously defined function for the numbers 8, 105, 177, 51, 5, 47, 199 and 967\n",
    "prime_test(8)\n",
    "prime_test(105)\n",
    "prime_test(177)\n",
    "prime_test(51)\n",
    "prime_test(5)\n",
    "prime_test(47)\n",
    "prime_test(199)\n",
    "prime_test(967)"
   ]
  },
  {
   "cell_type": "markdown",
   "metadata": {},
   "source": [
    "### Part 3: Embedding the test in a loop and testing all numbers $2\\leq n \\leq 100$ for the prime property."
   ]
  },
  {
   "cell_type": "code",
   "execution_count": 5,
   "metadata": {
    "tags": []
   },
   "outputs": [
    {
     "name": "stdout",
     "output_type": "stream",
     "text": [
      "2 is a prime number\n",
      "3 is a prime number\n",
      "4 is a prime number\n",
      "5 is a prime number\n",
      "6 is not a prime number\n",
      "7 is a prime number\n",
      "8 is not a prime number\n",
      "9 is a prime number\n",
      "10 is not a prime number\n",
      "11 is a prime number\n",
      "12 is not a prime number\n",
      "13 is a prime number\n",
      "14 is not a prime number\n",
      "15 is not a prime number\n",
      "16 is not a prime number\n",
      "17 is a prime number\n",
      "18 is not a prime number\n",
      "19 is a prime number\n",
      "20 is not a prime number\n",
      "21 is not a prime number\n",
      "22 is not a prime number\n",
      "23 is a prime number\n",
      "24 is not a prime number\n",
      "25 is a prime number\n",
      "26 is not a prime number\n",
      "27 is not a prime number\n",
      "28 is not a prime number\n",
      "29 is a prime number\n",
      "30 is not a prime number\n",
      "31 is a prime number\n",
      "32 is not a prime number\n",
      "33 is not a prime number\n",
      "34 is not a prime number\n",
      "35 is not a prime number\n",
      "36 is not a prime number\n",
      "37 is a prime number\n",
      "38 is not a prime number\n",
      "39 is not a prime number\n",
      "40 is not a prime number\n",
      "41 is a prime number\n",
      "42 is not a prime number\n",
      "43 is a prime number\n",
      "44 is not a prime number\n",
      "45 is not a prime number\n",
      "46 is not a prime number\n",
      "47 is a prime number\n",
      "48 is not a prime number\n",
      "49 is a prime number\n",
      "50 is not a prime number\n",
      "51 is not a prime number\n",
      "52 is not a prime number\n",
      "53 is a prime number\n",
      "54 is not a prime number\n",
      "55 is not a prime number\n",
      "56 is not a prime number\n",
      "57 is not a prime number\n",
      "58 is not a prime number\n",
      "59 is a prime number\n",
      "60 is not a prime number\n",
      "61 is a prime number\n",
      "62 is not a prime number\n",
      "63 is not a prime number\n",
      "64 is not a prime number\n",
      "65 is not a prime number\n",
      "66 is not a prime number\n",
      "67 is a prime number\n",
      "68 is not a prime number\n",
      "69 is not a prime number\n",
      "70 is not a prime number\n",
      "71 is a prime number\n",
      "72 is not a prime number\n",
      "73 is a prime number\n",
      "74 is not a prime number\n",
      "75 is not a prime number\n",
      "76 is not a prime number\n",
      "77 is not a prime number\n",
      "78 is not a prime number\n",
      "79 is a prime number\n",
      "80 is not a prime number\n",
      "81 is not a prime number\n",
      "82 is not a prime number\n",
      "83 is a prime number\n",
      "84 is not a prime number\n",
      "85 is not a prime number\n",
      "86 is not a prime number\n",
      "87 is not a prime number\n",
      "88 is not a prime number\n",
      "89 is a prime number\n",
      "90 is not a prime number\n",
      "91 is not a prime number\n",
      "92 is not a prime number\n",
      "93 is not a prime number\n",
      "94 is not a prime number\n",
      "95 is not a prime number\n",
      "96 is not a prime number\n",
      "97 is a prime number\n",
      "98 is not a prime number\n",
      "99 is not a prime number\n",
      "100 is not a prime number\n"
     ]
    }
   ],
   "source": [
    "n = 2                                                           # initialize n = 2\n",
    "while 2<= n <=100:                                              # loop will run over index n starting at 2 ending at 100\n",
    "    m = 2                                                       # initialize m = 2 for the inner loop\n",
    "    while 2 <= m < np.sqrt(n):                                  # from here on the same loop as before \n",
    "        if n % m == 0:                          \n",
    "            print(n, 'is not a prime number')   \n",
    "            break                               \n",
    "        else:                                   \n",
    "            m = m+1                             \n",
    "    else:                                       \n",
    "        print(n, 'is a prime number')\n",
    "    n = n +1                                                    # after the prime check is done for one number increase n by 1 to check the next number"
   ]
  },
  {
   "cell_type": "markdown",
   "metadata": {},
   "source": [
    "### Part 4: Finding the error and correcting it\n",
    "When looking at the output of the previous cell, we can see that any number which has an integer as square root and no other divisors, is declared as a prime number even though it can be\n",
    "divided by its square root without a rest. This is because in the algorithm Lydia assumed that on of the divisors a,b of n has to be larger than the other one. The case $a = b$ is not considered. In order to correct this problem the while statement has to be adjusted so that m runs up to $m <= n$ and not $m<n$.\n"
   ]
  },
  {
   "cell_type": "code",
   "execution_count": 6,
   "metadata": {
    "tags": []
   },
   "outputs": [
    {
     "name": "stdout",
     "output_type": "stream",
     "text": [
      "2 is a prime number\n",
      "3 is a prime number\n",
      "4 is not a prime number\n",
      "5 is a prime number\n",
      "6 is not a prime number\n",
      "7 is a prime number\n",
      "8 is not a prime number\n",
      "9 is not a prime number\n",
      "10 is not a prime number\n",
      "11 is a prime number\n",
      "12 is not a prime number\n",
      "13 is a prime number\n",
      "14 is not a prime number\n",
      "15 is not a prime number\n",
      "16 is not a prime number\n",
      "17 is a prime number\n",
      "18 is not a prime number\n",
      "19 is a prime number\n",
      "20 is not a prime number\n",
      "21 is not a prime number\n",
      "22 is not a prime number\n",
      "23 is a prime number\n",
      "24 is not a prime number\n",
      "25 is not a prime number\n",
      "26 is not a prime number\n",
      "27 is not a prime number\n",
      "28 is not a prime number\n",
      "29 is a prime number\n",
      "30 is not a prime number\n",
      "31 is a prime number\n",
      "32 is not a prime number\n",
      "33 is not a prime number\n",
      "34 is not a prime number\n",
      "35 is not a prime number\n",
      "36 is not a prime number\n",
      "37 is a prime number\n",
      "38 is not a prime number\n",
      "39 is not a prime number\n",
      "40 is not a prime number\n",
      "41 is a prime number\n",
      "42 is not a prime number\n",
      "43 is a prime number\n",
      "44 is not a prime number\n",
      "45 is not a prime number\n",
      "46 is not a prime number\n",
      "47 is a prime number\n",
      "48 is not a prime number\n",
      "49 is not a prime number\n",
      "50 is not a prime number\n",
      "51 is not a prime number\n",
      "52 is not a prime number\n",
      "53 is a prime number\n",
      "54 is not a prime number\n",
      "55 is not a prime number\n",
      "56 is not a prime number\n",
      "57 is not a prime number\n",
      "58 is not a prime number\n",
      "59 is a prime number\n",
      "60 is not a prime number\n",
      "61 is a prime number\n",
      "62 is not a prime number\n",
      "63 is not a prime number\n",
      "64 is not a prime number\n",
      "65 is not a prime number\n",
      "66 is not a prime number\n",
      "67 is a prime number\n",
      "68 is not a prime number\n",
      "69 is not a prime number\n",
      "70 is not a prime number\n",
      "71 is a prime number\n",
      "72 is not a prime number\n",
      "73 is a prime number\n",
      "74 is not a prime number\n",
      "75 is not a prime number\n",
      "76 is not a prime number\n",
      "77 is not a prime number\n",
      "78 is not a prime number\n",
      "79 is a prime number\n",
      "80 is not a prime number\n",
      "81 is not a prime number\n",
      "82 is not a prime number\n",
      "83 is a prime number\n",
      "84 is not a prime number\n",
      "85 is not a prime number\n",
      "86 is not a prime number\n",
      "87 is not a prime number\n",
      "88 is not a prime number\n",
      "89 is a prime number\n",
      "90 is not a prime number\n",
      "91 is not a prime number\n",
      "92 is not a prime number\n",
      "93 is not a prime number\n",
      "94 is not a prime number\n",
      "95 is not a prime number\n",
      "96 is not a prime number\n",
      "97 is a prime number\n",
      "98 is not a prime number\n",
      "99 is not a prime number\n",
      "100 is not a prime number\n"
     ]
    }
   ],
   "source": [
    "# The corrected prime test for all numbers from 2 to 100\n",
    "n = 2                                                           \n",
    "while 2<= n <=100:                                              \n",
    "    m = 2                                                      \n",
    "    while 2 <= m <= np.sqrt(n):                              # adjust the while statement from  \"2 <= m < np.sqrt(n)\"  to \"2 <= m <= np.sqrt(n)\" rest of the code is identical\n",
    "        if n % m == 0:                          \n",
    "            print(n, 'is not a prime number')   \n",
    "            break                               \n",
    "        else:                                   \n",
    "            m = m+1                             \n",
    "    else:                                       \n",
    "        print(n, 'is a prime number')\n",
    "    n = n +1                      "
   ]
  },
  {
   "cell_type": "markdown",
   "metadata": {
    "nbgrader": {
     "grade": false,
     "grade_id": "cell-5c20b7824c889804",
     "locked": true,
     "schema_version": 3,
     "solution": false,
     "task": false
    }
   },
   "source": [
    "# 4. Problems with an integral series (15 points)"
   ]
  },
  {
   "cell_type": "markdown",
   "metadata": {
    "nbgrader": {
     "grade": false,
     "grade_id": "cell-637b4ff9e037754d",
     "locked": true,
     "schema_version": 3,
     "solution": false,
     "task": false
    }
   },
   "source": [
    "Consider the sequence\n",
    "$$\n",
    "I_n=\\int_0^1 \\frac{x^{n}}{x+10}\\,\\mathrm{d}x; \\qquad n=1,2,\\dots\n",
    "$$\n",
    "We observe that\n",
    "\n",
    "\\begin{equation}\n",
    "I_n + 10I_{n-1} = \\int_0^1 \\frac{x^{n}+10x^{n-1}}{x+10}\\,\\mathrm{d}x =\n",
    "\\int_0^1 x^{n-1}\\,\\mathrm{d}x = \\frac 1n \\label{eq1}\\tag{1}.\n",
    "\\end{equation}\n",
    "\n",
    "This allows us to obtain $I_n$ with the following recurrence relation: \n",
    "\n",
    "\\begin{equation}\n",
    "I_n = \\frac 1n - 10I_{n-1} \\text{ with } \n",
    "I_0 = \\int_0^1 \\frac{1}{x+10}\\,\\mathrm{d}x = \\ln(11/10)\\approx 0.09531. \\label{eq2}\\tag{2}\n",
    "\\end{equation}\n",
    "\n",
    "One can show that the whole sequence converges to zero: $\\lim_{n\\to\\infty}I_n=0$. \n",
    "\n",
    "We want to numerically estimate $I_{20}$ by using eqs. \\ref{eq1} and \\ref{eq2} and we will calculate and print the first 20 elements of the series in a `while`-loop. \n",
    "\n",
    "There is a second, independent estimate of $I_{20}$ if we revert the first relation from eq. \\ref{eq2}:\n",
    "\\begin{equation}\n",
    "  I_{n-1} = \\frac 1{10}\\left(\\frac 1n -I_{n}\\right) \\text{ with } I_{50} = 0.\\label{eq3}\\tag{3}\n",
    "\\end{equation}\n",
    "This relation allows us to estimate $I_{50}, I_{49}, \\dots, I_{20}$.\n",
    "\n",
    "**Your tasks:**\n",
    "\n",
    "Perform the two experiments with the forward and with the reverse relation and argue which one of the results you trust. Please explain your observations.\n",
    "\n",
    "**Hints:** \n",
    " * Assume for the first case (forward relation) that $I_0$ is represented internally as a float number with an error, i.e. $I_0 = \\ln(11/10) + \\epsilon$, where $\\epsilon$ is the error. We know that $\\epsilon\\approx 10^{-18}$ for `Python` float numbers. What happens with $\\epsilon$ when you calculate new elements of the series? \n",
    " * for the logarithm you can use the numpy module with ```import numpy``` and use the defined function ```numpy.log(x)``` to obtain $\\ln(x)$!"
   ]
  },
  {
   "cell_type": "code",
   "execution_count": 7,
   "metadata": {
    "tags": []
   },
   "outputs": [
    {
     "name": "stdout",
     "output_type": "stream",
     "text": [
      "I_0 = 0.09531017980432493   J_0 = 0.09531\n",
      "I_1 = 0.04689820195675065   J_1 = 0.04689999999999994\n",
      "I_2 = 0.031017980432493486   J_2 = 0.031000000000000583\n",
      "I_3 = 0.023153529008398455   J_3 = 0.02333333333332749\n",
      "I_4 = 0.018464709916015454   J_4 = 0.016666666666725116\n",
      "I_5 = 0.015352900839845474   J_5 = 0.03333333333274885\n",
      "I_6 = 0.013137658268211921   J_6 = -0.16666666666082183\n",
      "I_7 = 0.011480560175023635   J_7 = 1.8095238094653612\n",
      "I_8 = 0.010194398249763648   J_8 = -17.970238094653613\n",
      "I_9 = 0.009167128613474629   J_9 = 179.81349205764724\n",
      "I_10 = 0.008328713865253717   J_10 = -1798.0349205764724\n",
      "I_11 = 0.007621952256553738   J_11 = 17980.44011485563\n",
      "I_12 = 0.00711381076779595   J_12 = -179804.31781522298\n",
      "I_13 = 0.005784969245117427   J_13 = 1798043.2550753069\n",
      "I_14 = 0.013578878977397152   J_14 = -17980432.479324497\n",
      "I_15 = -0.06912212310730485   J_15 = 179804324.85991162\n",
      "I_16 = 0.7537212310730486   J_16 = -1798043248.5366163\n",
      "I_17 = -7.478388781318721   J_17 = 17980432485.424988\n",
      "I_18 = 74.83944336874276   J_18 = -179804324854.19434\n",
      "I_19 = -748.3418021084802   J_19 = 1798043248541.996\n",
      "I_20 = 7483.468021084803   J_20 = -17980432485419.91\n"
     ]
    }
   ],
   "source": [
    "I = np.zeros(21)                    # Initialize an array of zeros for I \n",
    "I[0] = np.log(11/10)                # put in the condition for I_0\n",
    "J = np.zeros(21)                    \n",
    "J[0] = 0.09531                      # create J with smaller precision for comparison\n",
    "print(f\"I_0 = {I[0]}   J_0 = {J[0]}\") # print out I_0 and J_0\n",
    "\n",
    "n = 1                               # Initialize the index n \n",
    "while n < 21:                       # the loop will run over the index n until n reaches 20\n",
    "    I[n] = 1/n - 10 * I[n-1]        # equation (2) is inserted into the loop\n",
    "    J[n] = 1/n - 10 * J[n-1]\n",
    "    print(f\"I_{n} = {I[n]}   J_{n} = {J[n]}\")# print out the the value of I and J for the current n\n",
    "    n = n + 1                       # after each loop iteration the value of n is increased by 1                    # after each loop iteration the value of n is increased by 1 "
   ]
  },
  {
   "cell_type": "code",
   "execution_count": 8,
   "metadata": {
    "tags": []
   },
   "outputs": [
    {
     "name": "stdout",
     "output_type": "stream",
     "text": [
      "I_50 = 0.0\n",
      "I_49 = 0.002040816326530612\n",
      "I_48 = 0.001879251700680272\n",
      "I_47 = 0.001939734404400058\n",
      "I_46 = 0.001979939603038255\n",
      "I_45 = 0.002024228261918397\n",
      "I_44 = 0.0020703044465354334\n",
      "I_43 = 0.002118550950695294\n",
      "I_42 = 0.0021690972858828517\n",
      "I_41 = 0.0022221146616556177\n",
      "I_40 = 0.0022777885338344387\n",
      "I_39 = 0.0023363237107191202\n",
      "I_38 = 0.002397946576296509\n",
      "I_37 = 0.0024629080450730523\n",
      "I_36 = 0.0025314869732704724\n",
      "I_35 = 0.00260399415981581\n",
      "I_34 = 0.0026807770546066543\n",
      "I_33 = 0.002762225324842365\n",
      "I_32 = 0.0028487774675157638\n",
      "I_31 = 0.002940928704861327\n",
      "I_30 = 0.0030392404628472006\n",
      "I_29 = 0.0031443518157842454\n",
      "I_28 = 0.003256993389850147\n",
      "I_27 = 0.0033780043647186893\n",
      "I_26 = 0.0035083534096819777\n",
      "I_25 = 0.003649164659031803\n",
      "I_24 = 0.003801750200763486\n",
      "I_23 = 0.003967651066880173\n",
      "I_22 = 0.004148689438766529\n",
      "I_21 = 0.004347035818028109\n",
      "I_20 = 0.0045652964181971895\n",
      "I_19 = 0.004806628252917123\n",
      "I_18 = 0.0050748927302638434\n",
      "I_17 = 0.005374863668150086\n",
      "I_16 = 0.005712513633184992\n",
      "I_15 = 0.006095415303348168\n",
      "I_14 = 0.006533315612522326\n",
      "I_13 = 0.0070389761310554605\n",
      "I_12 = 0.0076294357202277875\n",
      "I_11 = 0.008327965518886314\n",
      "I_10 = 0.00916720344811137\n",
      "I_9 = 0.010194390766299974\n",
      "I_8 = 0.011480560923370003\n",
      "I_7 = 0.013137658193377286\n",
      "I_6 = 0.015352900847328939\n",
      "I_5 = 0.018464709915267108\n",
      "I_4 = 0.02315352900847329\n",
      "I_3 = 0.031017980432486006\n",
      "I_2 = 0.0468982019567514\n",
      "I_20 = 0.0045652964181971895\n"
     ]
    }
   ],
   "source": [
    "I = np.zeros(50)                        # Initialize a new array of zeros for I \n",
    "\n",
    "n = 49                                  # Initialize the index n\n",
    "while n >= 1:                           # The while loop runs while n is larger or equal to 1\n",
    "    I[n-1] = 1/10 * (1/n - I[n])        # equation (3) is inserted into the loop\n",
    "    print(f\"I_{n+1} = {I[n]}\")          # print out the the value of I for the current n, here n has to be shifted by one to account for the 0th component of the numpy array\n",
    "    n = n - 1                           # after each iteration of the loop, the value of n is decreased by one \n",
    "\n",
    "\n",
    "print(f\"I_20 = {I[19]}\")                # print out the value of I_20 again the index has to be shifted to account for I_0"
   ]
  },
  {
   "cell_type": "markdown",
   "metadata": {},
   "source": [
    "The forward recursion results in I_20=7483 while the backward recursion gives I_20=0.004. The latter is the expected result which we trust while the first result is clearly false. This is because of the finite precision of Python internal float numbers, which leads to a slightly negative number for I_n at some point. Since the forward recursion uses the logarithm, this negative numbers causes the results to diverge heavily from the correct values. This fact becomes obvious when testing with this with a starting number with even less precision J_0. \n",
    "\n",
    "In comparison, since the backward recursion doesn't rely on logarithm, the finite precision doesn't lead to any largely wrong numbers. "
   ]
  },
  {
   "cell_type": "markdown",
   "metadata": {},
   "source": [
    "# 5. Another numerical estimate for the square-root of a positive number (20 points)"
   ]
  },
  {
   "cell_type": "markdown",
   "metadata": {},
   "source": [
    "in class, I showed you an algorithm to estimate the square root of a number. Here is another one:\n",
    "\n",
    "*We want to estimate the square root of a positive number $x$. We start with an arbitrary number $y_0>0$ and calculate the sequence $y_{n+1}=\\frac 12\\left(y_n+\\frac{x}{y_n}\\right)$. The sequence converges to $\\sqrt{x}$, i.e. $\\lim_{n\\to\\infty}y_n=\\sqrt{x}$*.\n",
    "\n",
    "Your tasks:\n",
    "\n",
    "1. Implement the algorithm in a Python-program. Start with $y_0=1$ and calculate the $y_i$ in a `while`-loop. Finish the loop when $|y_{n+1}-y_n| < \\epsilon$ with $\\epsilon=10^{-6}$. Consider $y_{n+1}$ as your estimate for $\\sqrt{x}$ and print $y_{n+1}$ and $y_{n+1}^2$ (the latter is a test for your estimate!).\n",
    "\n",
    "    **Hint:**\n",
    "\n",
    "    A function to obtain the absolute value of a float-number is `numpy.fabs`.\n",
    "\n",
    "2. Test your program with $x\\in \\{2, 5, 11, 49, 111, 225\\}$ and verify that the estimated square roots meet your expectations.\n",
    "\n",
    "3. If we have available several algorithms for the same task, we would like to learn about the strengths and weaknesses of each (accuracy, reliability, robustness, performance). We would like to compare the lecture algorithm to the new one and verify whether one can estimate the square root more efficiently (with less iterations) than the other.\n",
    "\n",
    "    1. Run both algorithms to estimate square roots of different numbers up to a given accuracy $\\epsilon$ as defined in the algorithms. Print the number of iterations that each algorithm needs to reach the required $\\epsilon$. Please repeat the exercise for several values of $\\epsilon$. What do you observe?\n",
    "    2. Modify your codes to print in each iteration $n$ of the square-root estimation:\n",
    "         1. The values $\\epsilon_{n}$ and $\\epsilon_{n} / \\epsilon_{n-1}$ for the lecture algorithm. $\\epsilon_{n}$ is the estimate of $\\epsilon$ for iteration $n$ and  $\\epsilon_{n-1}$ the corresponding value for iteration $n-1$.\n",
    "         2. The values $\\epsilon_{n}$ and $\\epsilon_{n} / \\epsilon_{n-1}^{2}$ for the homework algorithm.\n",
    "    3. Describe your observations of 3(A) and 3(B). What do they mean for the convergence speed of the two algorithms."
   ]
  },
  {
   "cell_type": "markdown",
   "metadata": {},
   "source": [
    "### Part 1: Implementing the algorithm"
   ]
  },
  {
   "cell_type": "code",
   "execution_count": 9,
   "metadata": {
    "tags": []
   },
   "outputs": [],
   "source": [
    "def root_function(x):                       # define a function where the input is the number we want to take the square root of\n",
    "    y = np.zeros(20)                        # initialize an array so for the number sequence\n",
    "    y[0] = 1                                # give the first entry of y the value 1\n",
    "    epsilon = 10**(-6)                      # define the epsilon which gives the limit for the precision we want for the result\n",
    "    n = 0                                   # initialize the index for the loop\n",
    "    diff = 1                                # initialize the loop condition\n",
    "    while diff >= epsilon:                  # loop runs until diff is smaller than epsilon\n",
    "        y[n+1] = 1/2* (y[n] + x/y[n])       # calculate y[n+1] using the given sequence\n",
    "        diff = np.abs(y[n+1] - y[n])        # calculate the new loop condition as the absolute value of the difference between y[n+1] and y[n]\n",
    "        n = n + 1                           # increase the value of n by 1\n",
    "    print(f\"y[{n}] = {y[n]}\")               # print out the final calculated value of y\n",
    "    print(f\"y^2[{n}] = {y[n]**2}\")          # print out the square of the final value as a test of the estimate "
   ]
  },
  {
   "cell_type": "markdown",
   "metadata": {},
   "source": [
    "### Part 2: Testing the program for \n",
    "$x\\in \\{2, 5, 11, 49, 111, 225\\}$"
   ]
  },
  {
   "cell_type": "code",
   "execution_count": 10,
   "metadata": {
    "tags": []
   },
   "outputs": [
    {
     "name": "stdout",
     "output_type": "stream",
     "text": [
      "y[5] = 1.414213562373095\n",
      "y^2[5] = 1.9999999999999996\n",
      "y[5] = 2.236067977499978\n",
      "y^2[5] = 5.000000000000843\n",
      "y[6] = 3.3166247903554\n",
      "y^2[6] = 11.0\n",
      "y[7] = 7.000000000000002\n",
      "y^2[7] = 49.00000000000003\n",
      "y[8] = 10.535653752852738\n",
      "y^2[8] = 110.99999999999999\n",
      "y[9] = 15.0\n",
      "y^2[9] = 225.0\n"
     ]
    }
   ],
   "source": [
    "root_function(2)\n",
    "root_function(5)\n",
    "root_function(11)\n",
    "root_function(49)\n",
    "root_function(111)\n",
    "root_function(225)"
   ]
  },
  {
   "cell_type": "markdown",
   "metadata": {},
   "source": [
    "### Conclusion: The algorithm computes the square root with a precision of 15 decimal places"
   ]
  },
  {
   "cell_type": "markdown",
   "metadata": {},
   "source": [
    "### Part 3: Comparing this algorithm with the one from the lecture"
   ]
  },
  {
   "cell_type": "code",
   "execution_count": null,
   "metadata": {
    "tags": []
   },
   "outputs": [],
   "source": [
    "# algorithm from the lecture\n",
    "import sys\n",
    "import numpy as np\n",
    "\n",
    "def my_sqrt(x, eps):\n",
    "    \"\"\"\n",
    "    estimate the square root of x up to a given\n",
    "    accuracy eps.\n",
    "    \"\"\"\n",
    "    a = 0.\n",
    "    b = x\n",
    "    middle = (a + b) / 2.\n",
    "    \n",
    "    n = 0\n",
    "    while (b - a) > eps and n < 1000:\n",
    "        if (middle**2) < x:\n",
    "            a = (a + b) / 2.\n",
    "        else:\n",
    "            b = (a + b) / 2.\n",
    "\n",
    "        middle = (a + b) / 2.\n",
    "        n = n + 1\n",
    "\n",
    "    if n == 1000:\n",
    "        print(\"This should not happen!\", file=sys.stderr)\n",
    "        return None\n",
    "\n",
    "    return f\" sqrt of {x=} with {eps=} is {middle}. square is {middle**2}. iterations {n=}\"\n"
   ]
  },
  {
   "cell_type": "markdown",
   "metadata": {},
   "source": [
    "### Adjust the algorithm to output the number of iterations"
   ]
  },
  {
   "cell_type": "code",
   "execution_count": 13,
   "metadata": {},
   "outputs": [],
   "source": [
    "def root_function(x,eps):                       # define a function where the input is the number we want to take the square root of\n",
    "    y = np.zeros(20)                        # initialize an array so for the number sequence\n",
    "    y[0] = 1                                # give the first entry of y the value 1\n",
    "    epsilon = 10**(-6)                      # define the epsilon which gives the limit for the precision we want for the result\n",
    "    n = 0                                   # initialize the index for the loop\n",
    "    diff = 1                                # initialize the loop condition\n",
    "    while diff >= eps:                      # loop runs until diff is smaller than epsilon\n",
    "        y[n+1] = 1/2* (y[n] + x/y[n])       # calculate y[n+1] using the given sequence\n",
    "        diff = np.abs(y[n+1] - y[n])        # calculate the new loop condition as the absolute value of the difference between y[n+1] and y[n]\n",
    "        n = n + 1                           # increase the value of n by 1\n",
    "    \n",
    "    return f\" sqrt of {x=} with {eps=} is {y[n]}. square is {y[n]**2}. iterations {n=}\""
   ]
  },
  {
   "cell_type": "markdown",
   "metadata": {},
   "source": [
    "### Compare the algorithms for different epsilons for the numbers "
   ]
  },
  {
   "cell_type": "code",
   "execution_count": 14,
   "metadata": {},
   "outputs": [
    {
     "name": "stdout",
     "output_type": "stream",
     "text": [
      " Our alorithm: sqrt of x=2 with eps=0.0001 is 1.4142135623746899. square is 2.0000000000045106. iterations n=4\n",
      " Lecture algorithm:  sqrt of x=2 with eps=0.0001 is 1.414215087890625. square is 2.000004314817488. iterations n=15\n",
      "\n",
      " Our alorithm: sqrt of x=2 with eps=1e-05 is 1.4142135623746899. square is 2.0000000000045106. iterations n=4\n",
      " Lecture algorithm:  sqrt of x=2 with eps=1e-05 is 1.4142112731933594. square is 1.9999935252271825. iterations n=18\n",
      "\n",
      " Our alorithm: sqrt of x=2 with eps=1e-06 is 1.414213562373095. square is 1.9999999999999996. iterations n=5\n",
      " Lecture algorithm:  sqrt of x=2 with eps=1e-06 is 1.4142136573791504. square is 2.000000268717713. iterations n=21\n",
      "\n",
      " Our alorithm: sqrt of x=2 with eps=1e-07 is 1.414213562373095. square is 1.9999999999999996. iterations n=5\n",
      " Lecture algorithm:  sqrt of x=2 with eps=1e-07 is 1.4142135679721832. square is 2.000000015836613. iterations n=25\n",
      "\n",
      " Our alorithm: sqrt of x=2 with eps=1e-08 is 1.414213562373095. square is 1.9999999999999996. iterations n=5\n",
      " Lecture algorithm:  sqrt of x=2 with eps=1e-08 is 1.414213564246893. square is 2.000000005299901. iterations n=28\n",
      "\n",
      " Our alorithm: sqrt of x=5 with eps=0.0001 is 2.236067977499978. square is 5.000000000000843. iterations n=5\n",
      " Lecture algorithm:  sqrt of x=5 with eps=0.0001 is 2.2360610961914062. square is 4.999969225900713. iterations n=16\n",
      "\n",
      " Our alorithm: sqrt of x=5 with eps=1e-05 is 2.236067977499978. square is 5.000000000000843. iterations n=5\n",
      " Lecture algorithm:  sqrt of x=5 with eps=1e-05 is 2.2360658645629883. square is 4.999990550663824. iterations n=19\n",
      "\n",
      " Our alorithm: sqrt of x=5 with eps=1e-06 is 2.236067977499978. square is 5.000000000000843. iterations n=5\n",
      " Lecture algorithm:  sqrt of x=5 with eps=1e-06 is 2.2360679507255554. square is 4.999999880261985. iterations n=23\n",
      "\n",
      " Our alorithm: sqrt of x=5 with eps=1e-07 is 2.23606797749979. square is 5.000000000000001. iterations n=6\n",
      " Lecture algorithm:  sqrt of x=5 with eps=1e-07 is 2.2360679879784584. square is 5.000000046862032. iterations n=26\n",
      "\n",
      " Our alorithm: sqrt of x=5 with eps=1e-08 is 2.23606797749979. square is 5.000000000000001. iterations n=6\n",
      " Lecture algorithm:  sqrt of x=5 with eps=1e-08 is 2.23606797400862. square is 4.9999999843870135. iterations n=29\n",
      "\n",
      " Our alorithm: sqrt of x=11 with eps=0.0001 is 3.3166247903554. square is 11.0. iterations n=6\n",
      " Lecture algorithm:  sqrt of x=11 with eps=0.0001 is 3.316608428955078. square is 10.999891471015872. iterations n=17\n",
      "\n",
      " Our alorithm: sqrt of x=11 with eps=1e-05 is 3.3166247903554. square is 11.0. iterations n=6\n",
      " Lecture algorithm:  sqrt of x=11 with eps=1e-05 is 3.316626787185669. square is 11.000013245477533. iterations n=21\n",
      "\n",
      " Our alorithm: sqrt of x=11 with eps=1e-06 is 3.3166247903554. square is 11.0. iterations n=6\n",
      " Lecture algorithm:  sqrt of x=11 with eps=1e-06 is 3.316624492406845. square is 10.999998023632962. iterations n=24\n",
      "\n",
      " Our alorithm: sqrt of x=11 with eps=1e-07 is 3.3166247903554. square is 11.0. iterations n=6\n",
      " Lecture algorithm:  sqrt of x=11 with eps=1e-07 is 3.316624779254198. square is 10.999999926362959. iterations n=27\n",
      "\n",
      " Our alorithm: sqrt of x=11 with eps=1e-08 is 3.3166247903554. square is 11.0. iterations n=7\n",
      " Lecture algorithm:  sqrt of x=11 with eps=1e-08 is 3.3166247920598835. square is 11.000000011306266. iterations n=31\n",
      "\n",
      " Our alorithm: sqrt of x=49 with eps=0.0001 is 7.000000000000002. square is 49.00000000000003. iterations n=7\n",
      " Lecture algorithm:  sqrt of x=49 with eps=0.0001 is 7.0000200271606445. square is 49.00028038065011. iterations n=19\n",
      "\n",
      " Our alorithm: sqrt of x=49 with eps=1e-05 is 7.000000000000002. square is 49.00000000000003. iterations n=7\n",
      " Lecture algorithm:  sqrt of x=49 with eps=1e-05 is 6.999999582767487. square is 48.99999415874499. iterations n=23\n",
      "\n",
      " Our alorithm: sqrt of x=49 with eps=1e-06 is 7.000000000000002. square is 49.00000000000003. iterations n=7\n",
      " Lecture algorithm:  sqrt of x=49 with eps=1e-06 is 6.999999947845936. square is 48.9999992698431. iterations n=26\n",
      "\n",
      " Our alorithm: sqrt of x=49 with eps=1e-07 is 7.0. square is 49.0. iterations n=8\n",
      " Lecture algorithm:  sqrt of x=49 with eps=1e-07 is 6.999999993480742. square is 48.99999990873039. iterations n=29\n",
      "\n",
      " Our alorithm: sqrt of x=49 with eps=1e-08 is 7.0. square is 49.0. iterations n=8\n",
      " Lecture algorithm:  sqrt of x=49 with eps=1e-08 is 7.000000002037268. square is 49.000000028521754. iterations n=33\n",
      "\n",
      " Our alorithm: sqrt of x=111 with eps=0.0001 is 10.535653752852738. square is 110.99999999999999. iterations n=8\n",
      " Lecture algorithm:  sqrt of x=111 with eps=0.0001 is 10.535634756088257. square is 110.99959971369486. iterations n=21\n",
      "\n",
      " Our alorithm: sqrt of x=111 with eps=1e-05 is 10.535653752852738. square is 110.99999999999999. iterations n=8\n",
      " Lecture algorithm:  sqrt of x=111 with eps=1e-05 is 10.535651296377182. square is 110.9999482388542. iterations n=24\n",
      "\n",
      " Our alorithm: sqrt of x=111 with eps=1e-06 is 10.535653752852738. square is 110.99999999999999. iterations n=8\n",
      " Lecture algorithm:  sqrt of x=111 with eps=1e-06 is 10.535653363913298. square is 110.99999180453759. iterations n=27\n",
      "\n",
      " Our alorithm: sqrt of x=111 with eps=1e-07 is 10.535653752852738. square is 110.99999999999999. iterations n=8\n",
      " Lecture algorithm:  sqrt of x=111 with eps=1e-07 is 10.53565375157632. square is 110.99999997310417. iterations n=31\n",
      "\n",
      " Our alorithm: sqrt of x=111 with eps=1e-08 is 10.535653752852738. square is 110.99999999999999. iterations n=8\n",
      " Lecture algorithm:  sqrt of x=111 with eps=1e-08 is 10.535653754806845. square is 111.00000004117557. iterations n=34\n",
      "\n",
      " Our alorithm: sqrt of x=225 with eps=0.0001 is 15.000000000000043. square is 225.00000000000128. iterations n=8\n",
      " Lecture algorithm:  sqrt of x=225 with eps=0.0001 is 15.000012516975403. square is 225.00037550941875. iterations n=22\n",
      "\n",
      " Our alorithm: sqrt of x=225 with eps=1e-05 is 15.000000000000043. square is 225.00000000000128. iterations n=8\n",
      " Lecture algorithm:  sqrt of x=225 with eps=1e-05 is 15.000002458691597. square is 225.00007376075396. iterations n=25\n",
      "\n",
      " Our alorithm: sqrt of x=225 with eps=1e-06 is 15.0. square is 225.0. iterations n=9\n",
      " Lecture algorithm:  sqrt of x=225 with eps=1e-06 is 15.000000363215804. square is 225.00001089647427. iterations n=28\n",
      "\n",
      " Our alorithm: sqrt of x=225 with eps=1e-07 is 15.0. square is 225.0. iterations n=9\n",
      " Lecture algorithm:  sqrt of x=225 with eps=1e-07 is 15.000000022700988. square is 225.00000068102963. iterations n=32\n",
      "\n",
      " Our alorithm: sqrt of x=225 with eps=1e-08 is 15.0. square is 225.0. iterations n=9\n",
      " Lecture algorithm:  sqrt of x=225 with eps=1e-08 is 14.999999999781721. square is 224.99999999345164. iterations n=35\n",
      "\n"
     ]
    }
   ],
   "source": [
    "for x in [2, 5, 11, 49, 111, 225]:\n",
    "    i = 4\n",
    "    while i < 9:\n",
    "        eps = 10**(-i)\n",
    "        print(f\" Our alorithm:{root_function(x,eps)}\")\n",
    "        print(f\" Lecture algorithm: {my_sqrt(x,eps)}\")\n",
    "        print(f\"\")\n",
    "        i = i + 1\n"
   ]
  },
  {
   "cell_type": "markdown",
   "metadata": {},
   "source": [
    "### Observations:\n",
    "The algorithm from the lecture needs more iterations to achieve  the same accuracy as the one we created. Also the number of iterations increases faster."
   ]
  }
 ],
 "metadata": {
  "celltoolbar": "Create Assignment",
  "kernelspec": {
   "display_name": "work",
   "language": "python",
   "name": "python3"
  },
  "language_info": {
   "codemirror_mode": {
    "name": "ipython",
    "version": 3
   },
   "file_extension": ".py",
   "mimetype": "text/x-python",
   "name": "python",
   "nbconvert_exporter": "python",
   "pygments_lexer": "ipython3",
   "version": "3.13.3"
  }
 },
 "nbformat": 4,
 "nbformat_minor": 4
}
